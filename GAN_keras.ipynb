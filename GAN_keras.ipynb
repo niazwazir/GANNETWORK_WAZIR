{
  "nbformat": 4,
  "nbformat_minor": 0,
  "metadata": {
    "kernelspec": {
      "display_name": "Python 3",
      "language": "python",
      "name": "python3"
    },
    "language_info": {
      "codemirror_mode": {
        "name": "ipython",
        "version": 3
      },
      "file_extension": ".py",
      "mimetype": "text/x-python",
      "name": "python",
      "nbconvert_exporter": "python",
      "pygments_lexer": "ipython3",
      "version": "3.6.1"
    },
    "colab": {
      "name": "GAN_keras.ipynb",
      "provenance": []
    }
  },
  "cells": [
    {
      "cell_type": "markdown",
      "metadata": {
        "id": "Fv8EuhizLeTv",
        "colab_type": "text"
      },
      "source": [
        "## Generative Adversarial Network\n",
        "___\n",
        "#### Description:\n",
        "This GAN is fed images from the MNIST dataset to generate new images that resemble those from the dataset. It works by having a generator network and a discriminator network compete with one another. The generator is tasked to generate new images and it is the discriminators job to tell if the generated image is fake or real.\n",
        "___\n",
        "#### Dataset:\n",
        "\n",
        "The MNIST dataset of handwritten numbers is used.\n",
        "___\n",
        "#### References:\n",
        "https://deeplearning4j.org/generative-adversarial-network\n",
        "\n",
        "https://github.com/soumith/ganhacks"
      ]
    },
    {
      "cell_type": "code",
      "metadata": {
        "id": "XtZsHqLXLt4A",
        "colab_type": "code",
        "colab": {
          "base_uri": "https://localhost:8080/",
          "height": 84
        },
        "outputId": "c02c6a92-bb39-4e33-ec88-ff70ea82c2e8"
      },
      "source": [
        "!git clone https://github.com/chuiboy/Generative_Adversarial_Networks.git"
      ],
      "execution_count": 8,
      "outputs": [
        {
          "output_type": "stream",
          "text": [
            "Cloning into 'Generative_Adversarial_Networks'...\n",
            "remote: Enumerating objects: 12, done.\u001b[K\n",
            "remote: Total 12 (delta 0), reused 0 (delta 0), pack-reused 12\u001b[K\n",
            "Unpacking objects: 100% (12/12), done.\n"
          ],
          "name": "stdout"
        }
      ]
    },
    {
      "cell_type": "code",
      "metadata": {
        "id": "3hxXZfygL0WO",
        "colab_type": "code",
        "colab": {
          "base_uri": "https://localhost:8080/",
          "height": 33
        },
        "outputId": "cc5a1352-91d7-4481-f084-92c4ee04e11e"
      },
      "source": [
        "cd Generative_Adversarial_Networks/"
      ],
      "execution_count": 9,
      "outputs": [
        {
          "output_type": "stream",
          "text": [
            "/content/Generative_Adversarial_Networks\n"
          ],
          "name": "stdout"
        }
      ]
    },
    {
      "cell_type": "code",
      "metadata": {
        "id": "PWm0MrN_LeT1",
        "colab_type": "code",
        "colab": {}
      },
      "source": [
        "# Import dependencies\n",
        "import numpy as np\n",
        "import tensorflow as tf\n",
        "import matplotlib.pyplot as plt\n",
        "from keras.layers import Input, Dense\n",
        "from keras.models import Model\n",
        "from keras.layers.advanced_activations import LeakyReLU\n",
        "\n",
        "%matplotlib inline"
      ],
      "execution_count": 0,
      "outputs": []
    },
    {
      "cell_type": "code",
      "metadata": {
        "id": "5ltrW7VfLeT-",
        "colab_type": "code",
        "colab": {
          "base_uri": "https://localhost:8080/",
          "height": 217
        },
        "outputId": "ae9594c8-3838-42f2-f92b-ab983b3949be"
      },
      "source": [
        "# Import the dataset\n",
        "from tensorflow.examples.tutorials.mnist import input_data\n",
        "\n",
        "# Read the dataset\n",
        "dataset = input_data.read_data_sets('../Datasets/MNIST/')\n",
        "\n",
        "# Printing the dataset shape\n",
        "print('X train:', dataset.train.images.shape)\n",
        "print('X test:', dataset.test.images.shape)\n",
        "print('y train:', dataset.train.labels.shape)\n",
        "print('y test:', dataset.test.labels.shape)\n",
        "\n",
        "# NOTE: Pixel values have already been preprocessed to lie between 0 and 1"
      ],
      "execution_count": 11,
      "outputs": [
        {
          "output_type": "stream",
          "text": [
            "Successfully downloaded train-images-idx3-ubyte.gz 9912422 bytes.\n",
            "Extracting ../Datasets/MNIST/train-images-idx3-ubyte.gz\n",
            "Successfully downloaded train-labels-idx1-ubyte.gz 28881 bytes.\n",
            "Extracting ../Datasets/MNIST/train-labels-idx1-ubyte.gz\n",
            "Successfully downloaded t10k-images-idx3-ubyte.gz 1648877 bytes.\n",
            "Extracting ../Datasets/MNIST/t10k-images-idx3-ubyte.gz\n",
            "Successfully downloaded t10k-labels-idx1-ubyte.gz 4542 bytes.\n",
            "Extracting ../Datasets/MNIST/t10k-labels-idx1-ubyte.gz\n",
            "X train: (55000, 784)\n",
            "X test: (10000, 784)\n",
            "y train: (55000,)\n",
            "y test: (10000,)\n"
          ],
          "name": "stdout"
        }
      ]
    },
    {
      "cell_type": "code",
      "metadata": {
        "id": "koebgPgyLeUI",
        "colab_type": "code",
        "colab": {
          "base_uri": "https://localhost:8080/",
          "height": 281
        },
        "outputId": "098d66ee-7582-40e0-abfc-8962da79d9f2"
      },
      "source": [
        "# Display a random training example\n",
        "rand_idx = np.random.randint(dataset.train.num_examples)\n",
        "plt.imshow(dataset.train.images[rand_idx].reshape(28, 28), cmap='gray')"
      ],
      "execution_count": 12,
      "outputs": [
        {
          "output_type": "execute_result",
          "data": {
            "text/plain": [
              "<matplotlib.image.AxesImage at 0x7f203fde5dd8>"
            ]
          },
          "metadata": {
            "tags": []
          },
          "execution_count": 12
        },
        {
          "output_type": "display_data",
          "data": {
            "image/png": "[encoded data removed]",
            "text/plain": [
              "<Figure size 432x288 with 1 Axes>"
            ]
          },
          "metadata": {
            "tags": []
          }
        }
      ]
    },
    {
      "cell_type": "code",
      "metadata": {
        "id": "MRlQjmunLeUQ",
        "colab_type": "code",
        "colab": {}
      },
      "source": [
        "# Functions to build models\n",
        "def build_discriminator():\n",
        "    X_input = Input((784,))\n",
        "    out = Dense(128)(X_input)\n",
        "    out = LeakyReLU(alpha=0.2)(out)\n",
        "    out = Dense(128)(out)\n",
        "    out = LeakyReLU(alpha=0.2)(out)\n",
        "    out = Dense(1, activation='sigmoid')(out)\n",
        "    return Model(inputs=X_input, outputs=out)\n",
        "\n",
        "def build_generator():\n",
        "    z_input = Input((100,))\n",
        "    out = Dense(128)(z_input)\n",
        "    out = LeakyReLU(alpha=0.2)(out)\n",
        "    out = Dense(128)(out)\n",
        "    out = LeakyReLU(alpha=0.2)(out)\n",
        "    out = Dense(784, activation='tanh')(out)\n",
        "    return Model(inputs=z_input, outputs=out)\n",
        "\n",
        "def build_combined(generator, discriminator):\n",
        "    discriminator.trainable = False\n",
        "    z_input = Input((100,))\n",
        "    out = discriminator(generator(z_input))\n",
        "    return Model(inputs=z_input, outputs=out)"
      ],
      "execution_count": 0,
      "outputs": []
    },
    {
      "cell_type": "code",
      "metadata": {
        "id": "_NUHi-TULeUX",
        "colab_type": "code",
        "colab": {}
      },
      "source": [
        "# Build and compile the discriminator\n",
        "discriminator = build_discriminator()\n",
        "discriminator.compile(loss='binary_crossentropy', \n",
        "                      optimizer='Adam')\n",
        "\n",
        "# Build and compile the generator\n",
        "generator = build_generator()\n",
        "generator.compile(loss='binary_crossentropy', \n",
        "                  optimizer='Adam')\n",
        "\n",
        "# Build and compile the combined network\n",
        "combined = build_combined(generator, discriminator)\n",
        "combined.compile(loss='binary_crossentropy', \n",
        "                 optimizer='Adam')\n"
      ],
      "execution_count": 0,
      "outputs": []
    },
    {
      "cell_type": "code",
      "metadata": {
        "id": "yxxwnFDuLeUg",
        "colab_type": "code",
        "colab": {}
      },
      "source": [
        "# Constants/Hyperparameters\n",
        "epochs = 20 #original = 200\n",
        "batch_size = 128"
      ],
      "execution_count": 0,
      "outputs": []
    },
    {
      "cell_type": "code",
      "metadata": {
        "id": "_EZruXaILeUo",
        "colab_type": "code",
        "colab": {
          "base_uri": "https://localhost:8080/",
          "height": 104
        },
        "outputId": "9097ffc1-8fef-4007-eec2-502c7653596f"
      },
      "source": [
        "# Training\n",
        "for epoch in range(epochs):\n",
        "    \n",
        "    num_batches = dataset.train.num_examples // batch_size\n",
        "\n",
        "    for i in range(num_batches):\n",
        "\n",
        "        real_batch_images, _ = dataset.train.next_batch(batch_size)            \n",
        "        real_batch_images = real_batch_images * 2 - 1 # make pixel values between (-1, 1)\n",
        "\n",
        "        # Generate fake images\n",
        "        z = np.random.normal(0, 1, size=(batch_size, 100))       \n",
        "        fake_batch_images = generator.predict(z)\n",
        "        \n",
        "        # Train discriminator and get loss\n",
        "        D_real_loss = discriminator.train_on_batch(real_batch_images, np.random.uniform(0.7, 1.2, len(real_batch_images)))\n",
        "        D_fake_loss = discriminator.train_on_batch(fake_batch_images, np.random.uniform(0.0, 0.3, len(fake_batch_images)))\n",
        "        D_loss = D_real_loss + D_fake_loss\n",
        "\n",
        "        # Train generator and get loss\n",
        "        G_loss = combined.train_on_batch(z, np.random.uniform(0.7, 1.2, len(real_batch_images)))\n",
        "\n",
        "\n",
        "    # Print loss every 10 epochs\n",
        "    if epoch % 10 == 0:\n",
        "        print('Epoch {}:\\tD_loss={},\\tG_loss={}'.format(epoch, D_loss, G_loss))    \n",
        "        \n",
        "        # Save generated images every 10 epochs\n",
        "        sample_z = np.random.normal(0, 1, size=(25, 100))\n",
        "        gen_sample = generator.predict(sample_z)\n",
        "        gen_sample = 0.5 * gen_sample + 0.5 # make pixel values between (0, 1)\n",
        "\n",
        "        fig, ax = plt.subplots(5, 5)\n",
        "        count = 0\n",
        "        for i in range(5):\n",
        "            for j in range(5):\n",
        "                ax[i, j].imshow(gen_sample[count].reshape(28,28), cmap='gray')\n",
        "                ax[i, j].axis('off')\n",
        "                count += 1\n",
        "        fig.savefig('images/epoch_%d.png' % epoch)\n",
        "        plt.close()"
      ],
      "execution_count": 18,
      "outputs": [
        {
          "output_type": "stream",
          "text": [
            "/usr/local/lib/python3.6/dist-packages/keras/engine/training.py:493: UserWarning: Discrepancy between trainable weights and collected trainable weights, did you set `model.trainable` without calling `model.compile` after ?\n",
            "  'Discrepancy between trainable weights and collected trainable'\n"
          ],
          "name": "stderr"
        },
        {
          "output_type": "stream",
          "text": [
            "Epoch 0:\tD_loss=0.962188720703125,\tG_loss=1.5345064401626587\n",
            "Epoch 10:\tD_loss=1.0409237146377563,\tG_loss=1.3130786418914795\n"
          ],
          "name": "stdout"
        }
      ]
    }
  ]
}