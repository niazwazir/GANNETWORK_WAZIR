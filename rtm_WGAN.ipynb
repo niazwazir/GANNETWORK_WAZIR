{
  "nbformat": 4,
  "nbformat_minor": 0,
  "metadata": {
    "anaconda-cloud": {},
    "kernelspec": {
      "display_name": "Python [conda root]",
      "language": "python",
      "name": "conda-root-py"
    },
    "language_info": {
      "codemirror_mode": {
        "name": "ipython",
        "version": 3
      },
      "file_extension": ".py",
      "mimetype": "text/x-python",
      "name": "python",
      "nbconvert_exporter": "python",
      "pygments_lexer": "ipython3",
      "version": "3.5.2"
    },
    "colab": {
      "name": "rtm_WGAN.ipynb",
      "provenance": []
    },
    "accelerator": "GPU"
  },
  "cells": [
    {
      "cell_type": "markdown",
      "metadata": {
        "id": "n5OAplbGIGxk",
        "colab_type": "text"
      },
      "source": [
        "# Wasserstien GAN"
      ]
    },
    {
      "cell_type": "code",
      "metadata": {
        "id": "oEgl4HcvIGxq",
        "colab_type": "code",
        "colab": {
          "base_uri": "https://localhost:8080/",
          "height": 96
        },
        "outputId": "a63ded30-4991-4912-b5c9-db8a5b179001"
      },
      "source": [
        "import numpy as np\n",
        "from keras.preprocessing import image\n",
        "from keras.preprocessing.sequence import pad_sequences\n",
        "from keras.models import Model, Sequential\n",
        "from keras.layers import *\n",
        "from keras.optimizers import Adam, RMSprop\n",
        "import keras.backend as K\n",
        "import keras\n",
        "import matplotlib.pyplot as plt\n",
        "from tqdm import tqdm\n",
        "\n",
        "%matplotlib inline"
      ],
      "execution_count": 1,
      "outputs": [
        {
          "output_type": "stream",
          "text": [
            "Using TensorFlow backend.\n"
          ],
          "name": "stderr"
        },
        {
          "output_type": "display_data",
          "data": {
            "text/html": [
              "<p style=\"color: red;\">\n",
              "The default version of TensorFlow in Colab will soon switch to TensorFlow 2.x.<br>\n",
              "We recommend you <a href=\"https://www.tensorflow.org/guide/migrate\" target=\"_blank\">upgrade</a> now \n",
              "or ensure your notebook will continue to use TensorFlow 1.x via the <code>%tensorflow_version 1.x</code> magic:\n",
              "<a href=\"https://colab.research.google.com/notebooks/tensorflow_version.ipynb\" target=\"_blank\">more info</a>.</p>\n"
            ],
            "text/plain": [
              "<IPython.core.display.HTML object>"
            ]
          },
          "metadata": {
            "tags": []
          }
        }
      ]
    },
    {
      "cell_type": "markdown",
      "metadata": {
        "id": "YSOdGNKRIGx3",
        "colab_type": "text"
      },
      "source": [
        "## Import and prep the MNIST data"
      ]
    },
    {
      "cell_type": "code",
      "metadata": {
        "id": "YtLO45PqIGx5",
        "colab_type": "code",
        "colab": {
          "base_uri": "https://localhost:8080/",
          "height": 67
        },
        "outputId": "b99c2c35-7396-49f1-acb1-e7313fc234fe"
      },
      "source": [
        "from keras.datasets import mnist\n",
        "(X_train, y_train), (X_test, y_test) = mnist.load_data()\n",
        "print(X_train.shape)"
      ],
      "execution_count": 2,
      "outputs": [
        {
          "output_type": "stream",
          "text": [
            "Downloading data from https://s3.amazonaws.com/img-datasets/mnist.npz\n",
            "11493376/11490434 [==============================] - 0s 0us/step\n",
            "(60000, 28, 28)\n"
          ],
          "name": "stdout"
        }
      ]
    },
    {
      "cell_type": "code",
      "metadata": {
        "id": "3Z6hD75LIGyB",
        "colab_type": "code",
        "colab": {}
      },
      "source": [
        "X_train = X_train.reshape(-1, 28, 28, 1).astype(np.float32)\n",
        "X_test = X_test.reshape(-1, 28, 28, 1).astype(np.float32)"
      ],
      "execution_count": 0,
      "outputs": []
    },
    {
      "cell_type": "code",
      "metadata": {
        "id": "p72MwUmVIGyJ",
        "colab_type": "code",
        "colab": {}
      },
      "source": [
        "X_train /= 255.; X_test /= 255."
      ],
      "execution_count": 0,
      "outputs": []
    },
    {
      "cell_type": "code",
      "metadata": {
        "id": "anMknjeYIGyR",
        "colab_type": "code",
        "colab": {}
      },
      "source": [
        "n = len(X_train)"
      ],
      "execution_count": 0,
      "outputs": []
    },
    {
      "cell_type": "markdown",
      "metadata": {
        "id": "Xk0FHDrNIGyZ",
        "colab_type": "text"
      },
      "source": [
        "## Utility functions"
      ]
    },
    {
      "cell_type": "markdown",
      "metadata": {
        "id": "yfaOY1Q-IGyd",
        "colab_type": "text"
      },
      "source": [
        "generate a length 100 vector of random noise to feed the generator"
      ]
    },
    {
      "cell_type": "code",
      "metadata": {
        "id": "x-frIu-cIGyg",
        "colab_type": "code",
        "colab": {}
      },
      "source": [
        "def noise(batch_size): return np.random.rand(batch_size, 100)"
      ],
      "execution_count": 0,
      "outputs": []
    },
    {
      "cell_type": "markdown",
      "metadata": {
        "id": "_aCnbBG1IGyn",
        "colab_type": "text"
      },
      "source": [
        "lock or release the weights of a model for training"
      ]
    },
    {
      "cell_type": "code",
      "metadata": {
        "id": "7CtC_01FIGyp",
        "colab_type": "code",
        "colab": {}
      },
      "source": [
        "def make_trainable(net, val):\n",
        "    net.trainable = val\n",
        "    for l in net.layers: l.trainable = val"
      ],
      "execution_count": 0,
      "outputs": []
    },
    {
      "cell_type": "markdown",
      "metadata": {
        "id": "9-f45Z8IIGyw",
        "colab_type": "text"
      },
      "source": [
        "This is the main training loop. It contains two of the important improvements suggested by the wasserstien gan paper, namely to periodically train the discriminator more heavily and to clip the weights to a restricted set of values.\n",
        "\n",
        "Training progresses in two steps, with the descriminator being trained on a batch containing half real and half generated images, then the discriminators weights are locked and the full model is trained, using wasserstien loss on the discriminators predictions to update the weights of the generator."
      ]
    },
    {
      "cell_type": "code",
      "metadata": {
        "id": "1g7evW1wIGyy",
        "colab_type": "code",
        "colab": {}
      },
      "source": [
        "def train(D, G, m, epochs=2500, batch_size=128):\n",
        "    gen_iterations = 0\n",
        "    rl = []; fl = []; dl = []; gl= []\n",
        "    for epoch in tqdm(range(epochs)):\n",
        "        make_trainable(D, True)\n",
        "        # First Wasserstien improvement:\n",
        "        # Periodically train D more heavily\n",
        "        if gen_iterations < 25 or gen_iterations % 500 == 0:\n",
        "            disc_iterations = 100\n",
        "        else:\n",
        "            disc_iterations = 5\n",
        "        \n",
        "        # Train the discriminator\n",
        "        for iteration in range(disc_iterations):\n",
        "            # Second Wasserstien improvement:\n",
        "            # Clip weights -0.01 to 0.01\n",
        "            for l in D.layers:\n",
        "                weights = l.get_weights()\n",
        "                weights = [np.clip(w, -0.01, 0.01) for w in weights]\n",
        "                l.set_weights(weights)\n",
        "            \n",
        "            # Create batch of data and update discriminator\n",
        "            half_batch = batch_size//2\n",
        "            x_real_d = X_train[np.random.randint(0, n, size=half_batch)]\n",
        "            rl.append(D.train_on_batch(x_real_d, [-1]*half_batch))\n",
        "            \n",
        "            x_gen_d = G.predict(noise(half_batch))\n",
        "            fl.append(D.train_on_batch(x_gen_d, [1]*half_batch))\n",
        "            \n",
        "            dl.append(np.mean([-rl[-1], fl[-1]]))\n",
        "        \n",
        "        make_trainable(D, False)\n",
        "        \n",
        "        # Train the generator\n",
        "        gl.append(m.train_on_batch(noise(batch_size), [-1]*batch_size))\n",
        "        gen_iterations += 1\n",
        "        \n",
        "    return rl,fl,dl,gl"
      ],
      "execution_count": 0,
      "outputs": []
    },
    {
      "cell_type": "markdown",
      "metadata": {
        "id": "tnJqhD4kIGy9",
        "colab_type": "text"
      },
      "source": [
        "## Generator Model"
      ]
    },
    {
      "cell_type": "markdown",
      "metadata": {
        "id": "Yy5GmBx6IGzB",
        "colab_type": "text"
      },
      "source": [
        "Simple model with a fully connected block, followed by two upsampling blocks, then a final convolution layer."
      ]
    },
    {
      "cell_type": "code",
      "metadata": {
        "id": "1C0wutXKIGzE",
        "colab_type": "code",
        "colab": {
          "base_uri": "https://localhost:8080/",
          "height": 438
        },
        "outputId": "5fb8d29c-a054-4aba-9079-99e153beec55"
      },
      "source": [
        "filters = 512\n",
        "gen_input = Input(shape=(100,), name=\"generator_input\")\n",
        "xg = Dense(512 * 7 * 7, input_dim=100)(gen_input)\n",
        "xg = LeakyReLU()(xg)\n",
        "xg = BatchNormalization()(xg)\n",
        "xg = Reshape((7, 7, 512))(xg)\n",
        "\n",
        "# Upsample to 14x14\n",
        "xg = UpSampling2D()(xg)\n",
        "xg = Conv2D(64, (3,3), padding='same')(xg)\n",
        "xg = BatchNormalization()(xg)\n",
        "xg = LeakyReLU()(xg)\n",
        "\n",
        "# Upsample to 28x28\n",
        "xg = UpSampling2D()(xg)\n",
        "xg = Conv2D(32, (3,3), padding='same')(xg)\n",
        "xg = BatchNormalization()(xg)\n",
        "xg = LeakyReLU()(xg)\n",
        "\n",
        "xg = Conv2D(1, (1,1), padding='same', activation='sigmoid')(xg)\n",
        "generator_model = Model(inputs=[gen_input], outputs=[xg], name='RyanGAN_G')"
      ],
      "execution_count": 9,
      "outputs": [
        {
          "output_type": "stream",
          "text": [
            "WARNING:tensorflow:From /usr/local/lib/python3.6/dist-packages/keras/backend/tensorflow_backend.py:541: The name tf.placeholder is deprecated. Please use tf.compat.v1.placeholder instead.\n",
            "\n",
            "WARNING:tensorflow:From /usr/local/lib/python3.6/dist-packages/keras/backend/tensorflow_backend.py:66: The name tf.get_default_graph is deprecated. Please use tf.compat.v1.get_default_graph instead.\n",
            "\n",
            "WARNING:tensorflow:From /usr/local/lib/python3.6/dist-packages/keras/backend/tensorflow_backend.py:4432: The name tf.random_uniform is deprecated. Please use tf.random.uniform instead.\n",
            "\n",
            "WARNING:tensorflow:From /usr/local/lib/python3.6/dist-packages/keras/backend/tensorflow_backend.py:148: The name tf.placeholder_with_default is deprecated. Please use tf.compat.v1.placeholder_with_default instead.\n",
            "\n",
            "WARNING:tensorflow:From /usr/local/lib/python3.6/dist-packages/keras/backend/tensorflow_backend.py:2239: The name tf.image.resize_nearest_neighbor is deprecated. Please use tf.compat.v1.image.resize_nearest_neighbor instead.\n",
            "\n",
            "WARNING:tensorflow:From /usr/local/lib/python3.6/dist-packages/keras/backend/tensorflow_backend.py:190: The name tf.get_default_session is deprecated. Please use tf.compat.v1.get_default_session instead.\n",
            "\n",
            "WARNING:tensorflow:From /usr/local/lib/python3.6/dist-packages/keras/backend/tensorflow_backend.py:197: The name tf.ConfigProto is deprecated. Please use tf.compat.v1.ConfigProto instead.\n",
            "\n",
            "WARNING:tensorflow:From /usr/local/lib/python3.6/dist-packages/keras/backend/tensorflow_backend.py:203: The name tf.Session is deprecated. Please use tf.compat.v1.Session instead.\n",
            "\n",
            "WARNING:tensorflow:From /usr/local/lib/python3.6/dist-packages/keras/backend/tensorflow_backend.py:207: The name tf.global_variables is deprecated. Please use tf.compat.v1.global_variables instead.\n",
            "\n",
            "WARNING:tensorflow:From /usr/local/lib/python3.6/dist-packages/keras/backend/tensorflow_backend.py:216: The name tf.is_variable_initialized is deprecated. Please use tf.compat.v1.is_variable_initialized instead.\n",
            "\n",
            "WARNING:tensorflow:From /usr/local/lib/python3.6/dist-packages/keras/backend/tensorflow_backend.py:223: The name tf.variables_initializer is deprecated. Please use tf.compat.v1.variables_initializer instead.\n",
            "\n",
            "WARNING:tensorflow:From /usr/local/lib/python3.6/dist-packages/keras/backend/tensorflow_backend.py:2041: The name tf.nn.fused_batch_norm is deprecated. Please use tf.compat.v1.nn.fused_batch_norm instead.\n",
            "\n"
          ],
          "name": "stdout"
        }
      ]
    },
    {
      "cell_type": "code",
      "metadata": {
        "id": "19TNyivlIGzM",
        "colab_type": "code",
        "colab": {
          "base_uri": "https://localhost:8080/",
          "height": 619
        },
        "outputId": "dfd083c8-266f-46a7-e153-0f9f3ef84a95"
      },
      "source": [
        "generator_model.summary()"
      ],
      "execution_count": 10,
      "outputs": [
        {
          "output_type": "stream",
          "text": [
            "Model: \"RyanGAN_G\"\n",
            "_________________________________________________________________\n",
            "Layer (type)                 Output Shape              Param #   \n",
            "=================================================================\n",
            "generator_input (InputLayer) (None, 100)               0         \n",
            "_________________________________________________________________\n",
            "dense_1 (Dense)              (None, 25088)             2533888   \n",
            "_________________________________________________________________\n",
            "leaky_re_lu_1 (LeakyReLU)    (None, 25088)             0         \n",
            "_________________________________________________________________\n",
            "batch_normalization_1 (Batch (None, 25088)             100352    \n",
            "_________________________________________________________________\n",
            "reshape_1 (Reshape)          (None, 7, 7, 512)         0         \n",
            "_________________________________________________________________\n",
            "up_sampling2d_1 (UpSampling2 (None, 14, 14, 512)       0         \n",
            "_________________________________________________________________\n",
            "conv2d_1 (Conv2D)            (None, 14, 14, 64)        294976    \n",
            "_________________________________________________________________\n",
            "batch_normalization_2 (Batch (None, 14, 14, 64)        256       \n",
            "_________________________________________________________________\n",
            "leaky_re_lu_2 (LeakyReLU)    (None, 14, 14, 64)        0         \n",
            "_________________________________________________________________\n",
            "up_sampling2d_2 (UpSampling2 (None, 28, 28, 64)        0         \n",
            "_________________________________________________________________\n",
            "conv2d_2 (Conv2D)            (None, 28, 28, 32)        18464     \n",
            "_________________________________________________________________\n",
            "batch_normalization_3 (Batch (None, 28, 28, 32)        128       \n",
            "_________________________________________________________________\n",
            "leaky_re_lu_3 (LeakyReLU)    (None, 28, 28, 32)        0         \n",
            "_________________________________________________________________\n",
            "conv2d_3 (Conv2D)            (None, 28, 28, 1)         33        \n",
            "=================================================================\n",
            "Total params: 2,948,097\n",
            "Trainable params: 2,897,729\n",
            "Non-trainable params: 50,368\n",
            "_________________________________________________________________\n"
          ],
          "name": "stdout"
        }
      ]
    },
    {
      "cell_type": "markdown",
      "metadata": {
        "id": "h_CrQoVMIGzW",
        "colab_type": "text"
      },
      "source": [
        "## Discriminator Model"
      ]
    },
    {
      "cell_type": "code",
      "metadata": {
        "id": "AM26nzV5IGzZ",
        "colab_type": "code",
        "colab": {}
      },
      "source": [
        "min_s = 28\n",
        "num_convolutions = int(np.floor(np.log(min_s // 4) / np.log(2)))\n",
        "list_filters = [64 * min(8, (2 ** i)) for i in range(num_convolutions)]\n",
        "\n",
        "disc_input = Input(shape=(28,28,1), name='discriminator_input')\n",
        "xd = Conv2D(list_filters[0], (3,3), strides=(2,2), padding='same', use_bias=False)(disc_input)\n",
        "xd = BatchNormalization()(xd)\n",
        "xd = LeakyReLU(0.2)(xd)\n",
        "\n",
        "for i, f in enumerate(list_filters[1:]):\n",
        "    xd = Conv2D(f, (3,3), strides=(2,2), padding='same', use_bias=False)(xd)\n",
        "    xd = BatchNormalization()(xd)\n",
        "    xd = LeakyReLU(0.2)(xd)\n",
        "\n",
        "xd = Conv2D(1, (3,3), padding='same', use_bias=False)(xd)\n",
        "xd = GlobalAveragePooling2D()(xd)\n",
        "xd = Activation('tanh')(xd)\n",
        "\n",
        "discriminiator_model = Model(inputs=[disc_input], outputs=[xd], name='RyanGAN_D')"
      ],
      "execution_count": 0,
      "outputs": []
    },
    {
      "cell_type": "code",
      "metadata": {
        "id": "Hx5P_bvrIGzg",
        "colab_type": "code",
        "colab": {
          "base_uri": "https://localhost:8080/",
          "height": 485
        },
        "outputId": "406ac249-3ff3-4dfb-ad03-417b705a3c4f"
      },
      "source": [
        "discriminiator_model.summary()"
      ],
      "execution_count": 12,
      "outputs": [
        {
          "output_type": "stream",
          "text": [
            "Model: \"RyanGAN_D\"\n",
            "_________________________________________________________________\n",
            "Layer (type)                 Output Shape              Param #   \n",
            "=================================================================\n",
            "discriminator_input (InputLa (None, 28, 28, 1)         0         \n",
            "_________________________________________________________________\n",
            "conv2d_4 (Conv2D)            (None, 14, 14, 64)        576       \n",
            "_________________________________________________________________\n",
            "batch_normalization_4 (Batch (None, 14, 14, 64)        256       \n",
            "_________________________________________________________________\n",
            "leaky_re_lu_4 (LeakyReLU)    (None, 14, 14, 64)        0         \n",
            "_________________________________________________________________\n",
            "conv2d_5 (Conv2D)            (None, 7, 7, 128)         73728     \n",
            "_________________________________________________________________\n",
            "batch_normalization_5 (Batch (None, 7, 7, 128)         512       \n",
            "_________________________________________________________________\n",
            "leaky_re_lu_5 (LeakyReLU)    (None, 7, 7, 128)         0         \n",
            "_________________________________________________________________\n",
            "conv2d_6 (Conv2D)            (None, 7, 7, 1)           1152      \n",
            "_________________________________________________________________\n",
            "global_average_pooling2d_1 ( (None, 1)                 0         \n",
            "_________________________________________________________________\n",
            "activation_1 (Activation)    (None, 1)                 0         \n",
            "=================================================================\n",
            "Total params: 76,224\n",
            "Trainable params: 75,840\n",
            "Non-trainable params: 384\n",
            "_________________________________________________________________\n"
          ],
          "name": "stdout"
        }
      ]
    },
    {
      "cell_type": "markdown",
      "metadata": {
        "id": "B4OxkXC2IGzq",
        "colab_type": "text"
      },
      "source": [
        "## WGAN Model"
      ]
    },
    {
      "cell_type": "code",
      "metadata": {
        "id": "XQllGJShIGzs",
        "colab_type": "code",
        "colab": {}
      },
      "source": [
        "wgan_input = Input(shape=(100,), name='input')\n",
        "generated_image = generator_model(wgan_input)\n",
        "wgan_output = discriminiator_model(generated_image)\n",
        "\n",
        "wgan = Model(inputs=[wgan_input], outputs=[wgan_output], name='RyanGAN')"
      ],
      "execution_count": 0,
      "outputs": []
    },
    {
      "cell_type": "code",
      "metadata": {
        "id": "p_yyksYCIGz0",
        "colab_type": "code",
        "colab": {}
      },
      "source": [
        "def wasserstein(y_true, y_pred):\n",
        "    return K.mean(y_true * y_pred)"
      ],
      "execution_count": 0,
      "outputs": []
    },
    {
      "cell_type": "code",
      "metadata": {
        "id": "L7D4LoKZIGz7",
        "colab_type": "code",
        "colab": {
          "base_uri": "https://localhost:8080/",
          "height": 70
        },
        "outputId": "4c2377f1-32cf-461d-fe2b-627c47fb11dd"
      },
      "source": [
        "gen_opt = RMSprop(lr=5e-5)\n",
        "des_opt = RMSprop(lr=5e-5)\n",
        "\n",
        "generator_model.compile(loss='mse', optimizer=gen_opt)\n",
        "wgan.compile(loss=wasserstein, optimizer=gen_opt)\n",
        "discriminiator_model.compile(loss=wasserstein, optimizer=des_opt)"
      ],
      "execution_count": 15,
      "outputs": [
        {
          "output_type": "stream",
          "text": [
            "WARNING:tensorflow:From /usr/local/lib/python3.6/dist-packages/keras/optimizers.py:793: The name tf.train.Optimizer is deprecated. Please use tf.compat.v1.train.Optimizer instead.\n",
            "\n"
          ],
          "name": "stdout"
        }
      ]
    },
    {
      "cell_type": "code",
      "metadata": {
        "id": "BPitZ4etIG0D",
        "colab_type": "code",
        "colab": {
          "base_uri": "https://localhost:8080/",
          "height": 438
        },
        "outputId": "8fcf26f0-bf1f-439b-c80c-9256e32d2319"
      },
      "source": [
        "rl,fl,dl,gl = train(discriminiator_model, generator_model, wgan, epochs=20, batch_size=64) #original=200"
      ],
      "execution_count": 17,
      "outputs": [
        {
          "output_type": "stream",
          "text": [
            "\n",
            "  0%|          | 0/20 [00:00<?, ?it/s]\u001b[A/usr/local/lib/python3.6/dist-packages/keras/engine/training.py:493: UserWarning: Discrepancy between trainable weights and collected trainable weights, did you set `model.trainable` without calling `model.compile` after ?\n",
            "  'Discrepancy between trainable weights and collected trainable'\n",
            "\n",
            "  5%|▌         | 1/20 [00:02<00:45,  2.39s/it]\u001b[A\n",
            " 10%|█         | 2/20 [00:04<00:42,  2.34s/it]\u001b[A\n",
            " 15%|█▌        | 3/20 [00:06<00:39,  2.30s/it]\u001b[A\n",
            " 20%|██        | 4/20 [00:09<00:36,  2.27s/it]\u001b[A\n",
            " 25%|██▌       | 5/20 [00:11<00:34,  2.27s/it]\u001b[A\n",
            " 30%|███       | 6/20 [00:13<00:31,  2.26s/it]\u001b[A\n",
            " 35%|███▌      | 7/20 [00:15<00:29,  2.25s/it]\u001b[A\n",
            " 40%|████      | 8/20 [00:18<00:27,  2.27s/it]\u001b[A\n",
            " 45%|████▌     | 9/20 [00:20<00:24,  2.25s/it]\u001b[A\n",
            " 50%|█████     | 10/20 [00:22<00:22,  2.24s/it]\u001b[A\n",
            " 55%|█████▌    | 11/20 [00:24<00:20,  2.23s/it]\u001b[A\n",
            " 60%|██████    | 12/20 [00:26<00:17,  2.22s/it]\u001b[A\n",
            " 65%|██████▌   | 13/20 [00:29<00:15,  2.21s/it]\u001b[A\n",
            " 70%|███████   | 14/20 [00:31<00:13,  2.22s/it]\u001b[A\n",
            " 75%|███████▌  | 15/20 [00:33<00:11,  2.25s/it]\u001b[A\n",
            " 80%|████████  | 16/20 [00:35<00:08,  2.25s/it]\u001b[A\n",
            " 85%|████████▌ | 17/20 [00:38<00:06,  2.25s/it]\u001b[A\n",
            " 90%|█████████ | 18/20 [00:40<00:04,  2.29s/it]\u001b[A\n",
            " 95%|█████████▌| 19/20 [00:42<00:02,  2.26s/it]\u001b[A\n",
            "100%|██████████| 20/20 [00:44<00:00,  2.26s/it]\u001b[A\n",
            "\u001b[A"
          ],
          "name": "stderr"
        }
      ]
    },
    {
      "cell_type": "code",
      "metadata": {
        "id": "ZJpN1seGIG0I",
        "colab_type": "code",
        "colab": {
          "base_uri": "https://localhost:8080/",
          "height": 283
        },
        "outputId": "22d82575-afbf-4678-bd13-5297a5300ac7"
      },
      "source": [
        "plt.plot(dl)"
      ],
      "execution_count": 18,
      "outputs": [
        {
          "output_type": "execute_result",
          "data": {
            "text/plain": [
              "[<matplotlib.lines.Line2D at 0x7f7833571dd8>]"
            ]
          },
          "metadata": {
            "tags": []
          },
          "execution_count": 18
        },
        {
          "output_type": "display_data",
          "data": {
            "image/png": "[encoded data removed]",
            "text/plain": [
              "<Figure size 432x288 with 1 Axes>"
            ]
          },
          "metadata": {
            "tags": []
          }
        }
      ]
    },
    {
      "cell_type": "code",
      "metadata": {
        "id": "_5Fsvs--IG0O",
        "colab_type": "code",
        "colab": {
          "base_uri": "https://localhost:8080/",
          "height": 281
        },
        "outputId": "7888412f-5bfd-46eb-be66-b620a42cc344"
      },
      "source": [
        "plt.plot(gl)"
      ],
      "execution_count": 19,
      "outputs": [
        {
          "output_type": "execute_result",
          "data": {
            "text/plain": [
              "[<matplotlib.lines.Line2D at 0x7f7833027a58>]"
            ]
          },
          "metadata": {
            "tags": []
          },
          "execution_count": 19
        },
        {
          "output_type": "display_data",
          "data": {
            "image/png": "[encoded data removed]",
            "text/plain": [
              "<Figure size 432x288 with 1 Axes>"
            ]
          },
          "metadata": {
            "tags": []
          }
        }
      ]
    },
    {
      "cell_type": "code",
      "metadata": {
        "id": "MsR_g57iIG0U",
        "colab_type": "code",
        "colab": {}
      },
      "source": [
        "generated = generator_model.predict(noise(20)).reshape(20, 28,28)"
      ],
      "execution_count": 0,
      "outputs": []
    },
    {
      "cell_type": "code",
      "metadata": {
        "id": "vJbqVNi3IG0b",
        "colab_type": "code",
        "colab": {
          "base_uri": "https://localhost:8080/",
          "height": 281
        },
        "outputId": "40262092-61e8-4798-f963-edb2e8b375dd"
      },
      "source": [
        "plt.imshow(generated[3], cmap='gray')"
      ],
      "execution_count": 21,
      "outputs": [
        {
          "output_type": "execute_result",
          "data": {
            "text/plain": [
              "<matplotlib.image.AxesImage at 0x7f7832faaf98>"
            ]
          },
          "metadata": {
            "tags": []
          },
          "execution_count": 21
        },
        {
          "output_type": "display_data",
          "data": {
            "image/png": "[encoded data removed]",
            "text/plain": [
              "<Figure size 432x288 with 1 Axes>"
            ]
          },
          "metadata": {
            "tags": []
          }
        }
      ]
    },
    {
      "cell_type": "code",
      "metadata": {
        "id": "xnZFXZs2IG0g",
        "colab_type": "code",
        "colab": {
          "base_uri": "https://localhost:8080/",
          "height": 281
        },
        "outputId": "c6a6c6e2-0367-45cc-9f32-10b97d345c1e"
      },
      "source": [
        "plt.imshow(generated[11], cmap='gray')"
      ],
      "execution_count": 22,
      "outputs": [
        {
          "output_type": "execute_result",
          "data": {
            "text/plain": [
              "<matplotlib.image.AxesImage at 0x7f7832f8cfd0>"
            ]
          },
          "metadata": {
            "tags": []
          },
          "execution_count": 22
        },
        {
          "output_type": "display_data",
          "data": {
            "image/png": "[encoded data removed]",
            "text/plain": [
              "<Figure size 432x288 with 1 Axes>"
            ]
          },
          "metadata": {
            "tags": []
          }
        }
      ]
    },
    {
      "cell_type": "code",
      "metadata": {
        "id": "F64JuQs3IG0l",
        "colab_type": "code",
        "colab": {
          "base_uri": "https://localhost:8080/",
          "height": 281
        },
        "outputId": "f3ae363a-248f-4fa1-8461-b7f38f41b5db"
      },
      "source": [
        "plt.imshow(X_train[0][:,:,0], cmap='gray')"
      ],
      "execution_count": 23,
      "outputs": [
        {
          "output_type": "execute_result",
          "data": {
            "text/plain": [
              "<matplotlib.image.AxesImage at 0x7f7832eef208>"
            ]
          },
          "metadata": {
            "tags": []
          },
          "execution_count": 23
        },
        {
          "output_type": "display_data",
          "data": {
            "image/png": "[encoded data removed]",
            "text/plain": [
              "<Figure size 432x288 with 1 Axes>"
            ]
          },
          "metadata": {
            "tags": []
          }
        }
      ]
    }
  ]
}