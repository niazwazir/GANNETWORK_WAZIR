{
  "nbformat": 4,
  "nbformat_minor": 0,
  "metadata": {
    "kernelspec": {
      "name": "python3",
      "display_name": "Python 3"
    },
    "language_info": {
      "codemirror_mode": {
        "name": "ipython",
        "version": 3
      },
      "file_extension": ".py",
      "mimetype": "text/x-python",
      "name": "python",
      "nbconvert_exporter": "python",
      "pygments_lexer": "ipython3",
      "version": "3.6.8"
    },
    "colab": {
      "name": "GANS-Generative Adversarial Networks-MNIST Handwritten Digits.ipynb",
      "provenance": []
    },
    "accelerator": "GPU"
  },
  "cells": [
    {
      "cell_type": "markdown",
      "metadata": {
        "id": "Av0lY_9c95bR",
        "colab_type": "text"
      },
      "source": [
        "### GANS - GENERATIVE ADVERSARIAL NETWORKS\n",
        "\n",
        "Suppose there is a shop which buys certain kinds of artwork for customers which they will later resell. However, there are nerfarious customers who sell **fake** artworks. In this case, the shop has to distinguish between the fake and authentic artworks.\n",
        "\n",
        "You can imagine that initially, the forger might make a lot of mistakes when trying to sell the fake piece of art. The art inspector can easily find the fake from the authentic pieces. Because of this the forger tries recreating the work as close as possible to the real one.\n",
        "\n",
        "So, the forger **learns to make the artwork more REAL as possible**\n",
        "\n",
        "Meanwhile, the art inspector will also learn how new forgers are coming up with ideas to forge a piece of art. This can be through his friend circles in the art community. \n",
        "\n",
        "So, the art-inspector **learns to tell the authentic ones from the fake ones**\n",
        "\n",
        "#### ARCHITECTURE OF GANS\n",
        "\n",
        "The GANS has the following architecture\n",
        "\n",
        "![image.png](attachment:image.png)\n",
        "\n",
        "The main components of the GAN architecture are as follows:\n",
        "\n",
        "- Noise Vector: This is the pallete from the Forger's inspirational mind. This is also known as the **Latent Sample**.\n",
        "\n",
        "- Generator: This is the Forger who creates the fake artwork. This is a **Generative Network** which is typically a Convolutional Neural Network with **deconvolutional layers**. This network takes some noise vector as input and produces an image. The goal of the Generator is to produce images that are as real as possible.\n",
        "\n",
        "- Discriminator: This is the Art Inspector who inspects the art work from the fake and real ones. This is a **Discriminator Network** which is typically a Convolutional Neural Network which assigns probability on the image on whether it's real or not. \n",
        "\n",
        "**ULTIMATE GOAL** - Discriminator must produce art works(outputs) that are as close as possible to the real ones fooling the inspector to say it's real always. "
      ]
    },
    {
      "cell_type": "markdown",
      "metadata": {
        "id": "8Q5ZPoVm95bY",
        "colab_type": "text"
      },
      "source": [
        "### A SIMPLE GAN MODEL WITH KERAS\n",
        "\n",
        "We are going to develop a simple GAN model using the MNIST Handwritten digits using the Python `Keras` library.  "
      ]
    },
    {
      "cell_type": "code",
      "metadata": {
        "id": "KJE2EEeu95ba",
        "colab_type": "code",
        "colab": {
          "base_uri": "https://localhost:8080/",
          "height": 79
        },
        "outputId": "cb2dee06-5765-4234-d74c-c43cb53650f2"
      },
      "source": [
        "# Importing all the libraries required\n",
        "import os\n",
        "import numpy as np\n",
        "import matplotlib.pyplot as plt\n",
        "from tqdm import tqdm\n",
        "\n",
        "\n",
        "from keras.layers import Input\n",
        "from keras.models import Model, Sequential\n",
        "from keras.layers.core import Dense, Dropout\n",
        "from keras.layers.advanced_activations import LeakyReLU\n",
        "from keras.datasets import mnist\n",
        "from keras.optimizers import Adam\n",
        "from keras import initializers"
      ],
      "execution_count": 1,
      "outputs": [
        {
          "output_type": "stream",
          "text": [
            "Using TensorFlow backend.\n"
          ],
          "name": "stderr"
        },
        {
          "output_type": "display_data",
          "data": {
            "text/html": [
              "<p style=\"color: red;\">\n",
              "The default version of TensorFlow in Colab will soon switch to TensorFlow 2.x.<br>\n",
              "We recommend you <a href=\"https://www.tensorflow.org/guide/migrate\" target=\"_blank\">upgrade</a> now \n",
              "or ensure your notebook will continue to use TensorFlow 1.x via the <code>%tensorflow_version 1.x</code> magic:\n",
              "<a href=\"https://colab.research.google.com/notebooks/tensorflow_version.ipynb\" target=\"_blank\">more info</a>.</p>\n"
            ],
            "text/plain": [
              "<IPython.core.display.HTML object>"
            ]
          },
          "metadata": {
            "tags": []
          }
        }
      ]
    },
    {
      "cell_type": "code",
      "metadata": {
        "id": "pXkdCGlx95b9",
        "colab_type": "code",
        "colab": {}
      },
      "source": [
        "# To make sure that we can reproduce the experiment and get the same results\n",
        "np.random.seed(10)\n",
        "\n",
        "# The dimension of our random noise vector.\n",
        "random_dim = 100"
      ],
      "execution_count": 0,
      "outputs": []
    },
    {
      "cell_type": "markdown",
      "metadata": {
        "id": "QxmYtgmJ95cE",
        "colab_type": "text"
      },
      "source": [
        "Before starting out on generating the images we must load the MNIST Handwritten digits into the library. This is done below using the Helper function `load_mnist_data()`."
      ]
    },
    {
      "cell_type": "code",
      "metadata": {
        "id": "GK-z66-P95cG",
        "colab_type": "code",
        "colab": {}
      },
      "source": [
        "def load_minst_data():\n",
        "    # Load the MNIST data from the keras library\n",
        "    (x_train, y_train), (x_test, y_test) = mnist.load_data()\n",
        "    \n",
        "    # Normalize the training data between [-1,1]\n",
        "    x_train = (x_train.astype(np.float32)- 127.5)/ 127.5\n",
        "    \n",
        "    # Reshape the training data to (60000,784)-> a column vector\n",
        "    x_train = x_train.reshape(60000,784)\n",
        "    \n",
        "    return(x_train,y_train,x_test,y_test)"
      ],
      "execution_count": 0,
      "outputs": []
    },
    {
      "cell_type": "markdown",
      "metadata": {
        "id": "x8lpmauC95cN",
        "colab_type": "text"
      },
      "source": [
        "### DESIGN THE OPTIMIZER, GENERATOR, DISCRIMINATOR\n",
        "\n",
        "We are going to desing the Adam Optimizer which is based on Stochastic Gradient Descent. This is done with the helper function `get_optimizer()`. This is followed by the Generator and the Discriminator functions which are used to define the CNN layers for the model."
      ]
    },
    {
      "cell_type": "code",
      "metadata": {
        "id": "OBdoPVrp95cP",
        "colab_type": "code",
        "colab": {}
      },
      "source": [
        "def get_optimizer():\n",
        "    return Adam(lr=0.0002, beta_1=0.5)\n",
        "\n",
        "# Generator function\n",
        "def get_generator(optimizer):\n",
        "    generator = Sequential()\n",
        "    generator.add(Dense(256, input_dim=random_dim, kernel_initializer=initializers.RandomNormal(stddev=0.02)))\n",
        "    generator.add(LeakyReLU(0.2))\n",
        "    \n",
        "    generator.add(Dense(512))\n",
        "    generator.add(LeakyReLU(0.2))\n",
        "    \n",
        "    generator.add(Dense(1024))\n",
        "    generator.add(LeakyReLU(0.2))\n",
        "    \n",
        "    generator.add(Dense(784, activation='tanh'))\n",
        "    generator.compile(loss='binary_crossentropy', optimizer =optimizer)\n",
        "    \n",
        "    return generator\n",
        "\n",
        "# Discriminator Model\n",
        "def get_discriminator(optimizer):\n",
        "    discriminator = Sequential()\n",
        "    discriminator.add(Dense(1024, input_dim=784, kernel_initializer=initializers.RandomNormal(stddev=0.02)))\n",
        "    discriminator.add(LeakyReLU(0.2))\n",
        "    discriminator.add(Dropout(0.3))\n",
        "\n",
        "    discriminator.add(Dense(512))\n",
        "    discriminator.add(LeakyReLU(0.2))\n",
        "    discriminator.add(Dropout(0.3))\n",
        "\n",
        "    discriminator.add(Dense(256))\n",
        "    discriminator.add(LeakyReLU(0.2))\n",
        "    discriminator.add(Dropout(0.3))\n",
        "\n",
        "    discriminator.add(Dense(1, activation='sigmoid'))\n",
        "    discriminator.compile(loss='binary_crossentropy', optimizer=optimizer)\n",
        "    return discriminator"
      ],
      "execution_count": 0,
      "outputs": []
    },
    {
      "cell_type": "code",
      "metadata": {
        "id": "djztBp7E95cX",
        "colab_type": "code",
        "colab": {}
      },
      "source": [
        "# This is the Whole GAM Network\n",
        "def get_gan_network(discriminator, random_dim, generator, optimizer):\n",
        "    # We initially set trainable to False since we only want to train either the\n",
        "    # generator or discriminator at a time\n",
        "    discriminator.trainable = False\n",
        "    # gan input (noise) will be 100-dimensional vectors\n",
        "    gan_input = Input(shape=(random_dim,))\n",
        "    # the output of the generator (an image)\n",
        "    x = generator(gan_input)\n",
        "    # get the output of the discriminator (probability if the image is real or not)\n",
        "    gan_output = discriminator(x)\n",
        "    gan = Model(inputs=gan_input, outputs=gan_output)\n",
        "    gan.compile(loss='binary_crossentropy', optimizer=optimizer)\n",
        "    return gan"
      ],
      "execution_count": 0,
      "outputs": []
    },
    {
      "cell_type": "markdown",
      "metadata": {
        "id": "tUYeGYHM95ce",
        "colab_type": "text"
      },
      "source": [
        "For complete visualizations, we can create another helper function `plot_generated_images()` which will save images that will save the generated image every 30 epochs."
      ]
    },
    {
      "cell_type": "code",
      "metadata": {
        "id": "tS3Woqhb95cg",
        "colab_type": "code",
        "colab": {}
      },
      "source": [
        "# Create a wall of generated MNIST images\n",
        "def plot_generated_images(epoch, generator, examples=100, dim=(10, 10), figsize=(10, 10)):\n",
        "    noise = np.random.normal(0, 1, size=[examples, random_dim])\n",
        "    generated_images = generator.predict(noise)\n",
        "    generated_images = generated_images.reshape(examples, 28, 28)\n",
        "\n",
        "    plt.figure(figsize=figsize)\n",
        "    for i in range(generated_images.shape[0]):\n",
        "        plt.subplot(dim[0], dim[1], i+1)\n",
        "        plt.imshow(generated_images[i], interpolation='nearest', cmap='gray_r')\n",
        "        plt.axis('off')\n",
        "    plt.tight_layout()\n",
        "    plt.savefig('gan_generated_image_epoch_%d.png' % epoch)"
      ],
      "execution_count": 0,
      "outputs": []
    },
    {
      "cell_type": "code",
      "metadata": {
        "collapsed": true,
        "id": "Ce4cG_VS95cn",
        "colab_type": "code",
        "colab": {
          "base_uri": "https://localhost:8080/",
          "height": 1000
        },
        "outputId": "83c9db08-259d-41d6-cc8a-ed564f19a7d5"
      },
      "source": [
        "def train(epochs=1, batch_size=128):\n",
        "    # Get the training and testing data\n",
        "    x_train, y_train, x_test, y_test = load_minst_data()\n",
        "    # Split the training data into batches of size 128\n",
        "    batch_count = x_train.shape[0] / batch_size\n",
        "\n",
        "    # Build our GAN netowrk\n",
        "    adam = get_optimizer()\n",
        "    generator = get_generator(adam)\n",
        "    discriminator = get_discriminator(adam)\n",
        "    gan = get_gan_network(discriminator, random_dim, generator, adam)\n",
        "\n",
        "    for e in range(1, epochs+1):\n",
        "        print ('-'*15, 'Epoch %d' % e, '-'*15)\n",
        "        for _ in tqdm(range(int(batch_count))):\n",
        "            # Get a random set of input noise and images\n",
        "            noise = np.random.normal(0, 1, size=[batch_size, random_dim])\n",
        "            image_batch = x_train[np.random.randint(0, x_train.shape[0], size=batch_size)]\n",
        "\n",
        "            # Generate fake MNIST images\n",
        "            generated_images = generator.predict(noise)\n",
        "            X = np.concatenate([image_batch, generated_images])\n",
        "\n",
        "            # Labels for generated and real data\n",
        "            y_dis = np.zeros(2*batch_size)\n",
        "            # One-sided label smoothing\n",
        "            y_dis[:batch_size] = 0.9\n",
        "\n",
        "            # Train discriminator\n",
        "            discriminator.trainable = True\n",
        "            discriminator.train_on_batch(X, y_dis)\n",
        "\n",
        "            # Train generator\n",
        "            noise = np.random.normal(0, 1, size=[batch_size, random_dim])\n",
        "            y_gen = np.ones(batch_size)\n",
        "            discriminator.trainable = False\n",
        "            gan.train_on_batch(noise, y_gen)\n",
        "\n",
        "        if e == 1 or e % 20 == 0:\n",
        "            plot_generated_images(e, generator)\n",
        "\n",
        "train(400, 128)"
      ],
      "execution_count": 0,
      "outputs": [
        {
          "output_type": "stream",
          "text": [
            "Downloading data from https://s3.amazonaws.com/img-datasets/mnist.npz\n",
            "11493376/11490434 [==============================] - 1s 0us/step\n",
            "WARNING:tensorflow:From /usr/local/lib/python3.6/dist-packages/keras/backend/tensorflow_backend.py:66: The name tf.get_default_graph is deprecated. Please use tf.compat.v1.get_default_graph instead.\n",
            "\n",
            "WARNING:tensorflow:From /usr/local/lib/python3.6/dist-packages/keras/backend/tensorflow_backend.py:541: The name tf.placeholder is deprecated. Please use tf.compat.v1.placeholder instead.\n",
            "\n",
            "WARNING:tensorflow:From /usr/local/lib/python3.6/dist-packages/keras/backend/tensorflow_backend.py:4409: The name tf.random_normal is deprecated. Please use tf.random.normal instead.\n",
            "\n",
            "WARNING:tensorflow:From /usr/local/lib/python3.6/dist-packages/keras/backend/tensorflow_backend.py:4432: The name tf.random_uniform is deprecated. Please use tf.random.uniform instead.\n",
            "\n",
            "WARNING:tensorflow:From /usr/local/lib/python3.6/dist-packages/keras/optimizers.py:793: The name tf.train.Optimizer is deprecated. Please use tf.compat.v1.train.Optimizer instead.\n",
            "\n",
            "WARNING:tensorflow:From /usr/local/lib/python3.6/dist-packages/keras/backend/tensorflow_backend.py:3657: The name tf.log is deprecated. Please use tf.math.log instead.\n",
            "\n",
            "WARNING:tensorflow:From /usr/local/lib/python3.6/dist-packages/tensorflow_core/python/ops/nn_impl.py:183: where (from tensorflow.python.ops.array_ops) is deprecated and will be removed in a future version.\n",
            "Instructions for updating:\n",
            "Use tf.where in 2.0, which has the same broadcast rule as np.where\n",
            "WARNING:tensorflow:From /usr/local/lib/python3.6/dist-packages/keras/backend/tensorflow_backend.py:148: The name tf.placeholder_with_default is deprecated. Please use tf.compat.v1.placeholder_with_default instead.\n",
            "\n",
            "WARNING:tensorflow:From /usr/local/lib/python3.6/dist-packages/keras/backend/tensorflow_backend.py:3733: calling dropout (from tensorflow.python.ops.nn_ops) with keep_prob is deprecated and will be removed in a future version.\n",
            "Instructions for updating:\n",
            "Please use `rate` instead of `keep_prob`. Rate should be set to `rate = 1 - keep_prob`.\n"
          ],
          "name": "stdout"
        },
        {
          "output_type": "stream",
          "text": [
            "\r  0%|          | 0/468 [00:00<?, ?it/s]"
          ],
          "name": "stderr"
        },
        {
          "output_type": "stream",
          "text": [
            "--------------- Epoch 1 ---------------\n",
            "WARNING:tensorflow:From /usr/local/lib/python3.6/dist-packages/keras/backend/tensorflow_backend.py:3005: The name tf.Session is deprecated. Please use tf.compat.v1.Session instead.\n",
            "\n",
            "WARNING:tensorflow:From /usr/local/lib/python3.6/dist-packages/keras/backend/tensorflow_backend.py:190: The name tf.get_default_session is deprecated. Please use tf.compat.v1.get_default_session instead.\n",
            "\n",
            "WARNING:tensorflow:From /usr/local/lib/python3.6/dist-packages/keras/backend/tensorflow_backend.py:197: The name tf.ConfigProto is deprecated. Please use tf.compat.v1.ConfigProto instead.\n",
            "\n",
            "WARNING:tensorflow:From /usr/local/lib/python3.6/dist-packages/keras/backend/tensorflow_backend.py:207: The name tf.global_variables is deprecated. Please use tf.compat.v1.global_variables instead.\n",
            "\n",
            "WARNING:tensorflow:From /usr/local/lib/python3.6/dist-packages/keras/backend/tensorflow_backend.py:216: The name tf.is_variable_initialized is deprecated. Please use tf.compat.v1.is_variable_initialized instead.\n",
            "\n",
            "WARNING:tensorflow:From /usr/local/lib/python3.6/dist-packages/keras/backend/tensorflow_backend.py:223: The name tf.variables_initializer is deprecated. Please use tf.compat.v1.variables_initializer instead.\n",
            "\n",
            "WARNING:tensorflow:From /usr/local/lib/python3.6/dist-packages/keras/backend/tensorflow_backend.py:1033: The name tf.assign_add is deprecated. Please use tf.compat.v1.assign_add instead.\n",
            "\n",
            "WARNING:tensorflow:From /usr/local/lib/python3.6/dist-packages/keras/backend/tensorflow_backend.py:1020: The name tf.assign is deprecated. Please use tf.compat.v1.assign instead.\n",
            "\n"
          ],
          "name": "stdout"
        },
        {
          "output_type": "stream",
          "text": [
            "100%|██████████| 468/468 [00:18<00:00, 64.33it/s]\n",
            "  1%|▏         | 6/468 [00:00<00:08, 56.38it/s]"
          ],
          "name": "stderr"
        },
        {
          "output_type": "stream",
          "text": [
            "--------------- Epoch 2 ---------------\n"
          ],
          "name": "stdout"
        },
        {
          "output_type": "stream",
          "text": [
            "100%|██████████| 468/468 [00:07<00:00, 63.25it/s]\n",
            "  1%|▏         | 7/468 [00:00<00:07, 63.86it/s]"
          ],
          "name": "stderr"
        },
        {
          "output_type": "stream",
          "text": [
            "--------------- Epoch 3 ---------------\n"
          ],
          "name": "stdout"
        },
        {
          "output_type": "stream",
          "text": [
            "100%|██████████| 468/468 [00:07<00:00, 60.67it/s]\n",
            "  1%|          | 5/468 [00:00<00:09, 47.48it/s]"
          ],
          "name": "stderr"
        },
        {
          "output_type": "stream",
          "text": [
            "--------------- Epoch 4 ---------------\n"
          ],
          "name": "stdout"
        },
        {
          "output_type": "stream",
          "text": [
            "100%|██████████| 468/468 [00:07<00:00, 60.80it/s]\n",
            "  1%|▏         | 7/468 [00:00<00:07, 65.23it/s]"
          ],
          "name": "stderr"
        },
        {
          "output_type": "stream",
          "text": [
            "--------------- Epoch 5 ---------------\n"
          ],
          "name": "stdout"
        },
        {
          "output_type": "stream",
          "text": [
            "100%|██████████| 468/468 [00:07<00:00, 64.07it/s]\n",
            "  1%|▏         | 7/468 [00:00<00:07, 62.51it/s]"
          ],
          "name": "stderr"
        },
        {
          "output_type": "stream",
          "text": [
            "--------------- Epoch 6 ---------------\n"
          ],
          "name": "stdout"
        },
        {
          "output_type": "stream",
          "text": [
            "100%|██████████| 468/468 [00:07<00:00, 57.92it/s]\n",
            "  1%|          | 5/468 [00:00<00:09, 48.93it/s]"
          ],
          "name": "stderr"
        },
        {
          "output_type": "stream",
          "text": [
            "--------------- Epoch 7 ---------------\n"
          ],
          "name": "stdout"
        },
        {
          "output_type": "stream",
          "text": [
            "100%|██████████| 468/468 [00:07<00:00, 59.44it/s]\n",
            "  1%|▏         | 7/468 [00:00<00:06, 66.91it/s]"
          ],
          "name": "stderr"
        },
        {
          "output_type": "stream",
          "text": [
            "--------------- Epoch 8 ---------------\n"
          ],
          "name": "stdout"
        },
        {
          "output_type": "stream",
          "text": [
            "100%|██████████| 468/468 [00:07<00:00, 60.04it/s]\n",
            "  1%|▏         | 7/468 [00:00<00:06, 68.41it/s]"
          ],
          "name": "stderr"
        },
        {
          "output_type": "stream",
          "text": [
            "--------------- Epoch 9 ---------------\n"
          ],
          "name": "stdout"
        },
        {
          "output_type": "stream",
          "text": [
            "100%|██████████| 468/468 [00:07<00:00, 62.14it/s]\n",
            "  1%|▏         | 7/468 [00:00<00:06, 66.65it/s]"
          ],
          "name": "stderr"
        },
        {
          "output_type": "stream",
          "text": [
            "--------------- Epoch 10 ---------------\n"
          ],
          "name": "stdout"
        },
        {
          "output_type": "stream",
          "text": [
            "100%|██████████| 468/468 [00:07<00:00, 61.31it/s]\n",
            "  1%|▏         | 7/468 [00:00<00:07, 64.69it/s]"
          ],
          "name": "stderr"
        },
        {
          "output_type": "stream",
          "text": [
            "--------------- Epoch 11 ---------------\n"
          ],
          "name": "stdout"
        },
        {
          "output_type": "stream",
          "text": [
            "100%|██████████| 468/468 [00:07<00:00, 59.98it/s]\n",
            "  1%|▏         | 7/468 [00:00<00:06, 67.26it/s]"
          ],
          "name": "stderr"
        },
        {
          "output_type": "stream",
          "text": [
            "--------------- Epoch 12 ---------------\n"
          ],
          "name": "stdout"
        },
        {
          "output_type": "stream",
          "text": [
            "100%|██████████| 468/468 [00:07<00:00, 60.62it/s]\n",
            "  1%|▏         | 6/468 [00:00<00:07, 59.26it/s]"
          ],
          "name": "stderr"
        },
        {
          "output_type": "stream",
          "text": [
            "--------------- Epoch 13 ---------------\n"
          ],
          "name": "stdout"
        },
        {
          "output_type": "stream",
          "text": [
            "100%|██████████| 468/468 [00:07<00:00, 60.56it/s]\n",
            "  1%|▏         | 7/468 [00:00<00:07, 62.94it/s]"
          ],
          "name": "stderr"
        },
        {
          "output_type": "stream",
          "text": [
            "--------------- Epoch 14 ---------------\n"
          ],
          "name": "stdout"
        },
        {
          "output_type": "stream",
          "text": [
            "100%|██████████| 468/468 [00:07<00:00, 61.07it/s]\n",
            "  1%|▏         | 7/468 [00:00<00:06, 68.48it/s]"
          ],
          "name": "stderr"
        },
        {
          "output_type": "stream",
          "text": [
            "--------------- Epoch 15 ---------------\n"
          ],
          "name": "stdout"
        },
        {
          "output_type": "stream",
          "text": [
            "100%|██████████| 468/468 [00:07<00:00, 61.53it/s]\n",
            "  1%|▏         | 7/468 [00:00<00:07, 64.58it/s]"
          ],
          "name": "stderr"
        },
        {
          "output_type": "stream",
          "text": [
            "--------------- Epoch 16 ---------------\n"
          ],
          "name": "stdout"
        },
        {
          "output_type": "stream",
          "text": [
            "100%|██████████| 468/468 [00:07<00:00, 61.40it/s]\n",
            "  1%|▏         | 7/468 [00:00<00:06, 68.70it/s]"
          ],
          "name": "stderr"
        },
        {
          "output_type": "stream",
          "text": [
            "--------------- Epoch 17 ---------------\n"
          ],
          "name": "stdout"
        },
        {
          "output_type": "stream",
          "text": [
            "100%|██████████| 468/468 [00:07<00:00, 59.64it/s]\n",
            "  1%|▏         | 6/468 [00:00<00:07, 59.16it/s]"
          ],
          "name": "stderr"
        },
        {
          "output_type": "stream",
          "text": [
            "--------------- Epoch 18 ---------------\n"
          ],
          "name": "stdout"
        },
        {
          "output_type": "stream",
          "text": [
            "100%|██████████| 468/468 [00:07<00:00, 60.79it/s]\n",
            "  1%|▏         | 6/468 [00:00<00:08, 56.05it/s]"
          ],
          "name": "stderr"
        },
        {
          "output_type": "stream",
          "text": [
            "--------------- Epoch 19 ---------------\n"
          ],
          "name": "stdout"
        },
        {
          "output_type": "stream",
          "text": [
            "100%|██████████| 468/468 [00:07<00:00, 62.42it/s]\n",
            "  1%|▏         | 7/468 [00:00<00:07, 63.44it/s]"
          ],
          "name": "stderr"
        },
        {
          "output_type": "stream",
          "text": [
            "--------------- Epoch 20 ---------------\n"
          ],
          "name": "stdout"
        },
        {
          "output_type": "stream",
          "text": [
            "100%|██████████| 468/468 [00:07<00:00, 61.78it/s]\n",
            "  1%|▏         | 7/468 [00:00<00:07, 61.66it/s]"
          ],
          "name": "stderr"
        },
        {
          "output_type": "stream",
          "text": [
            "--------------- Epoch 21 ---------------\n"
          ],
          "name": "stdout"
        },
        {
          "output_type": "stream",
          "text": [
            "100%|██████████| 468/468 [00:07<00:00, 61.20it/s]\n",
            "  1%|▏         | 6/468 [00:00<00:07, 58.09it/s]"
          ],
          "name": "stderr"
        },
        {
          "output_type": "stream",
          "text": [
            "--------------- Epoch 22 ---------------\n"
          ],
          "name": "stdout"
        },
        {
          "output_type": "stream",
          "text": [
            "100%|██████████| 468/468 [00:07<00:00, 60.42it/s]\n",
            "  1%|▏         | 7/468 [00:00<00:07, 65.31it/s]"
          ],
          "name": "stderr"
        },
        {
          "output_type": "stream",
          "text": [
            "--------------- Epoch 23 ---------------\n"
          ],
          "name": "stdout"
        },
        {
          "output_type": "stream",
          "text": [
            "100%|██████████| 468/468 [00:07<00:00, 60.47it/s]\n",
            "  1%|▏         | 7/468 [00:00<00:06, 68.50it/s]"
          ],
          "name": "stderr"
        },
        {
          "output_type": "stream",
          "text": [
            "--------------- Epoch 24 ---------------\n"
          ],
          "name": "stdout"
        },
        {
          "output_type": "stream",
          "text": [
            "100%|██████████| 468/468 [00:07<00:00, 61.39it/s]\n",
            "  1%|▏         | 7/468 [00:00<00:06, 68.22it/s]"
          ],
          "name": "stderr"
        },
        {
          "output_type": "stream",
          "text": [
            "--------------- Epoch 25 ---------------\n"
          ],
          "name": "stdout"
        },
        {
          "output_type": "stream",
          "text": [
            "100%|██████████| 468/468 [00:07<00:00, 63.01it/s]\n",
            "  1%|▏         | 6/468 [00:00<00:07, 58.58it/s]"
          ],
          "name": "stderr"
        },
        {
          "output_type": "stream",
          "text": [
            "--------------- Epoch 26 ---------------\n"
          ],
          "name": "stdout"
        },
        {
          "output_type": "stream",
          "text": [
            "100%|██████████| 468/468 [00:07<00:00, 61.92it/s]\n",
            "  1%|▏         | 6/468 [00:00<00:08, 52.05it/s]"
          ],
          "name": "stderr"
        },
        {
          "output_type": "stream",
          "text": [
            "--------------- Epoch 27 ---------------\n"
          ],
          "name": "stdout"
        },
        {
          "output_type": "stream",
          "text": [
            "100%|██████████| 468/468 [00:07<00:00, 61.50it/s]\n",
            "  1%|▏         | 6/468 [00:00<00:08, 54.73it/s]"
          ],
          "name": "stderr"
        },
        {
          "output_type": "stream",
          "text": [
            "--------------- Epoch 28 ---------------\n"
          ],
          "name": "stdout"
        },
        {
          "output_type": "stream",
          "text": [
            "100%|██████████| 468/468 [00:07<00:00, 61.89it/s]\n",
            "  1%|▏         | 7/468 [00:00<00:06, 67.27it/s]"
          ],
          "name": "stderr"
        },
        {
          "output_type": "stream",
          "text": [
            "--------------- Epoch 29 ---------------\n"
          ],
          "name": "stdout"
        },
        {
          "output_type": "stream",
          "text": [
            "100%|██████████| 468/468 [00:07<00:00, 60.15it/s]\n",
            "  1%|▏         | 6/468 [00:00<00:07, 58.55it/s]"
          ],
          "name": "stderr"
        },
        {
          "output_type": "stream",
          "text": [
            "--------------- Epoch 30 ---------------\n"
          ],
          "name": "stdout"
        },
        {
          "output_type": "stream",
          "text": [
            "100%|██████████| 468/468 [00:07<00:00, 62.52it/s]\n",
            "  1%|▏         | 6/468 [00:00<00:07, 59.73it/s]"
          ],
          "name": "stderr"
        },
        {
          "output_type": "stream",
          "text": [
            "--------------- Epoch 31 ---------------\n"
          ],
          "name": "stdout"
        },
        {
          "output_type": "stream",
          "text": [
            "100%|██████████| 468/468 [00:07<00:00, 61.19it/s]\n",
            "  1%|▏         | 6/468 [00:00<00:08, 57.47it/s]"
          ],
          "name": "stderr"
        },
        {
          "output_type": "stream",
          "text": [
            "--------------- Epoch 32 ---------------\n"
          ],
          "name": "stdout"
        },
        {
          "output_type": "stream",
          "text": [
            "100%|██████████| 468/468 [00:07<00:00, 61.13it/s]\n",
            "  1%|▏         | 6/468 [00:00<00:08, 52.13it/s]"
          ],
          "name": "stderr"
        },
        {
          "output_type": "stream",
          "text": [
            "--------------- Epoch 33 ---------------\n"
          ],
          "name": "stdout"
        },
        {
          "output_type": "stream",
          "text": [
            "100%|██████████| 468/468 [00:08<00:00, 57.89it/s]\n",
            "  1%|          | 5/468 [00:00<00:09, 49.13it/s]"
          ],
          "name": "stderr"
        },
        {
          "output_type": "stream",
          "text": [
            "--------------- Epoch 34 ---------------\n"
          ],
          "name": "stdout"
        },
        {
          "output_type": "stream",
          "text": [
            "100%|██████████| 468/468 [00:07<00:00, 64.73it/s]\n",
            "  1%|▏         | 6/468 [00:00<00:07, 59.58it/s]"
          ],
          "name": "stderr"
        },
        {
          "output_type": "stream",
          "text": [
            "--------------- Epoch 35 ---------------\n"
          ],
          "name": "stdout"
        },
        {
          "output_type": "stream",
          "text": [
            "100%|██████████| 468/468 [00:07<00:00, 61.98it/s]\n",
            "  1%|▏         | 7/468 [00:00<00:07, 59.74it/s]"
          ],
          "name": "stderr"
        },
        {
          "output_type": "stream",
          "text": [
            "--------------- Epoch 36 ---------------\n"
          ],
          "name": "stdout"
        },
        {
          "output_type": "stream",
          "text": [
            "100%|██████████| 468/468 [00:07<00:00, 66.76it/s]\n",
            "  1%|▏         | 6/468 [00:00<00:07, 59.23it/s]"
          ],
          "name": "stderr"
        },
        {
          "output_type": "stream",
          "text": [
            "--------------- Epoch 37 ---------------\n"
          ],
          "name": "stdout"
        },
        {
          "output_type": "stream",
          "text": [
            "100%|██████████| 468/468 [00:07<00:00, 59.99it/s]\n",
            "  1%|▏         | 6/468 [00:00<00:07, 59.28it/s]"
          ],
          "name": "stderr"
        },
        {
          "output_type": "stream",
          "text": [
            "--------------- Epoch 38 ---------------\n"
          ],
          "name": "stdout"
        },
        {
          "output_type": "stream",
          "text": [
            "100%|██████████| 468/468 [00:07<00:00, 63.29it/s]\n",
            "  2%|▏         | 8/468 [00:00<00:06, 70.67it/s]"
          ],
          "name": "stderr"
        },
        {
          "output_type": "stream",
          "text": [
            "--------------- Epoch 39 ---------------\n"
          ],
          "name": "stdout"
        },
        {
          "output_type": "stream",
          "text": [
            "100%|██████████| 468/468 [00:07<00:00, 62.10it/s]\n",
            "  1%|▏         | 7/468 [00:00<00:07, 61.70it/s]"
          ],
          "name": "stderr"
        },
        {
          "output_type": "stream",
          "text": [
            "--------------- Epoch 40 ---------------\n"
          ],
          "name": "stdout"
        },
        {
          "output_type": "stream",
          "text": [
            "100%|██████████| 468/468 [00:07<00:00, 62.21it/s]\n",
            "  1%|▏         | 7/468 [00:00<00:06, 67.73it/s]"
          ],
          "name": "stderr"
        },
        {
          "output_type": "stream",
          "text": [
            "--------------- Epoch 41 ---------------\n"
          ],
          "name": "stdout"
        },
        {
          "output_type": "stream",
          "text": [
            "100%|██████████| 468/468 [00:07<00:00, 62.86it/s]\n",
            "  1%|▏         | 7/468 [00:00<00:07, 62.56it/s]"
          ],
          "name": "stderr"
        },
        {
          "output_type": "stream",
          "text": [
            "--------------- Epoch 42 ---------------\n"
          ],
          "name": "stdout"
        },
        {
          "output_type": "stream",
          "text": [
            "100%|██████████| 468/468 [00:07<00:00, 64.47it/s]\n",
            "  1%|▏         | 7/468 [00:00<00:07, 59.09it/s]"
          ],
          "name": "stderr"
        },
        {
          "output_type": "stream",
          "text": [
            "--------------- Epoch 43 ---------------\n"
          ],
          "name": "stdout"
        },
        {
          "output_type": "stream",
          "text": [
            "100%|██████████| 468/468 [00:07<00:00, 61.24it/s]\n",
            "  1%|▏         | 7/468 [00:00<00:06, 67.05it/s]"
          ],
          "name": "stderr"
        },
        {
          "output_type": "stream",
          "text": [
            "--------------- Epoch 44 ---------------\n"
          ],
          "name": "stdout"
        },
        {
          "output_type": "stream",
          "text": [
            "100%|██████████| 468/468 [00:07<00:00, 61.75it/s]\n",
            "  1%|▏         | 6/468 [00:00<00:07, 58.87it/s]"
          ],
          "name": "stderr"
        },
        {
          "output_type": "stream",
          "text": [
            "--------------- Epoch 45 ---------------\n"
          ],
          "name": "stdout"
        },
        {
          "output_type": "stream",
          "text": [
            "100%|██████████| 468/468 [00:07<00:00, 59.50it/s]\n",
            "  1%|▏         | 6/468 [00:00<00:08, 56.77it/s]"
          ],
          "name": "stderr"
        },
        {
          "output_type": "stream",
          "text": [
            "--------------- Epoch 46 ---------------\n"
          ],
          "name": "stdout"
        },
        {
          "output_type": "stream",
          "text": [
            "100%|██████████| 468/468 [00:07<00:00, 62.91it/s]\n",
            "  1%|▏         | 6/468 [00:00<00:08, 57.42it/s]"
          ],
          "name": "stderr"
        },
        {
          "output_type": "stream",
          "text": [
            "--------------- Epoch 47 ---------------\n"
          ],
          "name": "stdout"
        },
        {
          "output_type": "stream",
          "text": [
            "100%|██████████| 468/468 [00:07<00:00, 61.85it/s]\n",
            "  1%|▏         | 7/468 [00:00<00:07, 59.69it/s]"
          ],
          "name": "stderr"
        },
        {
          "output_type": "stream",
          "text": [
            "--------------- Epoch 48 ---------------\n"
          ],
          "name": "stdout"
        },
        {
          "output_type": "stream",
          "text": [
            "100%|██████████| 468/468 [00:07<00:00, 61.48it/s]\n",
            "  1%|▏         | 7/468 [00:00<00:07, 61.37it/s]"
          ],
          "name": "stderr"
        },
        {
          "output_type": "stream",
          "text": [
            "--------------- Epoch 49 ---------------\n"
          ],
          "name": "stdout"
        },
        {
          "output_type": "stream",
          "text": [
            "100%|██████████| 468/468 [00:07<00:00, 62.14it/s]\n",
            "  1%|▏         | 7/468 [00:00<00:06, 66.90it/s]"
          ],
          "name": "stderr"
        },
        {
          "output_type": "stream",
          "text": [
            "--------------- Epoch 50 ---------------\n"
          ],
          "name": "stdout"
        },
        {
          "output_type": "stream",
          "text": [
            "100%|██████████| 468/468 [00:07<00:00, 61.27it/s]\n",
            "  1%|▏         | 6/468 [00:00<00:08, 57.27it/s]"
          ],
          "name": "stderr"
        },
        {
          "output_type": "stream",
          "text": [
            "--------------- Epoch 51 ---------------\n"
          ],
          "name": "stdout"
        },
        {
          "output_type": "stream",
          "text": [
            "100%|██████████| 468/468 [00:07<00:00, 60.07it/s]\n",
            "  1%|▏         | 7/468 [00:00<00:06, 68.47it/s]"
          ],
          "name": "stderr"
        },
        {
          "output_type": "stream",
          "text": [
            "--------------- Epoch 52 ---------------\n"
          ],
          "name": "stdout"
        },
        {
          "output_type": "stream",
          "text": [
            "100%|██████████| 468/468 [00:07<00:00, 61.76it/s]\n",
            "  1%|▏         | 7/468 [00:00<00:07, 63.12it/s]"
          ],
          "name": "stderr"
        },
        {
          "output_type": "stream",
          "text": [
            "--------------- Epoch 53 ---------------\n"
          ],
          "name": "stdout"
        },
        {
          "output_type": "stream",
          "text": [
            "100%|██████████| 468/468 [00:07<00:00, 62.83it/s]\n",
            "  1%|▏         | 7/468 [00:00<00:07, 65.73it/s]"
          ],
          "name": "stderr"
        },
        {
          "output_type": "stream",
          "text": [
            "--------------- Epoch 54 ---------------\n"
          ],
          "name": "stdout"
        },
        {
          "output_type": "stream",
          "text": [
            "100%|██████████| 468/468 [00:07<00:00, 62.83it/s]\n",
            "  1%|▏         | 6/468 [00:00<00:07, 58.00it/s]"
          ],
          "name": "stderr"
        },
        {
          "output_type": "stream",
          "text": [
            "--------------- Epoch 55 ---------------\n"
          ],
          "name": "stdout"
        },
        {
          "output_type": "stream",
          "text": [
            "100%|██████████| 468/468 [00:07<00:00, 63.05it/s]\n",
            "  1%|▏         | 7/468 [00:00<00:07, 65.37it/s]"
          ],
          "name": "stderr"
        },
        {
          "output_type": "stream",
          "text": [
            "--------------- Epoch 56 ---------------\n"
          ],
          "name": "stdout"
        },
        {
          "output_type": "stream",
          "text": [
            "100%|██████████| 468/468 [00:07<00:00, 62.94it/s]\n",
            "  1%|▏         | 7/468 [00:00<00:06, 66.58it/s]"
          ],
          "name": "stderr"
        },
        {
          "output_type": "stream",
          "text": [
            "--------------- Epoch 57 ---------------\n"
          ],
          "name": "stdout"
        },
        {
          "output_type": "stream",
          "text": [
            "100%|██████████| 468/468 [00:07<00:00, 66.21it/s]\n",
            "  1%|▏         | 7/468 [00:00<00:07, 61.46it/s]"
          ],
          "name": "stderr"
        },
        {
          "output_type": "stream",
          "text": [
            "--------------- Epoch 58 ---------------\n"
          ],
          "name": "stdout"
        },
        {
          "output_type": "stream",
          "text": [
            "100%|██████████| 468/468 [00:07<00:00, 59.61it/s]\n",
            "  1%|▏         | 7/468 [00:00<00:06, 69.06it/s]"
          ],
          "name": "stderr"
        },
        {
          "output_type": "stream",
          "text": [
            "--------------- Epoch 59 ---------------\n"
          ],
          "name": "stdout"
        },
        {
          "output_type": "stream",
          "text": [
            "100%|██████████| 468/468 [00:07<00:00, 65.68it/s]\n",
            "  1%|▏         | 7/468 [00:00<00:06, 66.59it/s]"
          ],
          "name": "stderr"
        },
        {
          "output_type": "stream",
          "text": [
            "--------------- Epoch 60 ---------------\n"
          ],
          "name": "stdout"
        },
        {
          "output_type": "stream",
          "text": [
            "100%|██████████| 468/468 [00:07<00:00, 60.24it/s]\n",
            "  1%|▏         | 7/468 [00:00<00:07, 62.36it/s]"
          ],
          "name": "stderr"
        },
        {
          "output_type": "stream",
          "text": [
            "--------------- Epoch 61 ---------------\n"
          ],
          "name": "stdout"
        },
        {
          "output_type": "stream",
          "text": [
            "100%|██████████| 468/468 [00:07<00:00, 63.21it/s]\n",
            "  1%|▏         | 6/468 [00:00<00:09, 51.25it/s]"
          ],
          "name": "stderr"
        },
        {
          "output_type": "stream",
          "text": [
            "--------------- Epoch 62 ---------------\n"
          ],
          "name": "stdout"
        },
        {
          "output_type": "stream",
          "text": [
            "100%|██████████| 468/468 [00:07<00:00, 61.38it/s]\n",
            "  1%|▏         | 7/468 [00:00<00:06, 67.64it/s]"
          ],
          "name": "stderr"
        },
        {
          "output_type": "stream",
          "text": [
            "--------------- Epoch 63 ---------------\n"
          ],
          "name": "stdout"
        },
        {
          "output_type": "stream",
          "text": [
            "100%|██████████| 468/468 [00:07<00:00, 63.89it/s]\n",
            "  1%|▏         | 6/468 [00:00<00:07, 59.40it/s]"
          ],
          "name": "stderr"
        },
        {
          "output_type": "stream",
          "text": [
            "--------------- Epoch 64 ---------------\n"
          ],
          "name": "stdout"
        },
        {
          "output_type": "stream",
          "text": [
            "100%|██████████| 468/468 [00:07<00:00, 60.10it/s]\n",
            "  1%|▏         | 7/468 [00:00<00:06, 67.72it/s]"
          ],
          "name": "stderr"
        },
        {
          "output_type": "stream",
          "text": [
            "--------------- Epoch 65 ---------------\n"
          ],
          "name": "stdout"
        },
        {
          "output_type": "stream",
          "text": [
            "100%|██████████| 468/468 [00:07<00:00, 64.74it/s]\n",
            "  1%|▏         | 6/468 [00:00<00:08, 57.10it/s]"
          ],
          "name": "stderr"
        },
        {
          "output_type": "stream",
          "text": [
            "--------------- Epoch 66 ---------------\n"
          ],
          "name": "stdout"
        },
        {
          "output_type": "stream",
          "text": [
            "100%|██████████| 468/468 [00:07<00:00, 61.24it/s]\n",
            "  1%|▏         | 7/468 [00:00<00:06, 68.25it/s]"
          ],
          "name": "stderr"
        },
        {
          "output_type": "stream",
          "text": [
            "--------------- Epoch 67 ---------------\n"
          ],
          "name": "stdout"
        },
        {
          "output_type": "stream",
          "text": [
            "100%|██████████| 468/468 [00:07<00:00, 62.42it/s]\n",
            "  1%|▏         | 7/468 [00:00<00:07, 63.68it/s]"
          ],
          "name": "stderr"
        },
        {
          "output_type": "stream",
          "text": [
            "--------------- Epoch 68 ---------------\n"
          ],
          "name": "stdout"
        },
        {
          "output_type": "stream",
          "text": [
            "100%|██████████| 468/468 [00:07<00:00, 61.52it/s]\n",
            "  1%|▏         | 7/468 [00:00<00:06, 69.37it/s]"
          ],
          "name": "stderr"
        },
        {
          "output_type": "stream",
          "text": [
            "--------------- Epoch 69 ---------------\n"
          ],
          "name": "stdout"
        },
        {
          "output_type": "stream",
          "text": [
            "100%|██████████| 468/468 [00:07<00:00, 63.05it/s]\n",
            "  1%|▏         | 6/468 [00:00<00:07, 59.67it/s]"
          ],
          "name": "stderr"
        },
        {
          "output_type": "stream",
          "text": [
            "--------------- Epoch 70 ---------------\n"
          ],
          "name": "stdout"
        },
        {
          "output_type": "stream",
          "text": [
            "100%|██████████| 468/468 [00:07<00:00, 62.96it/s]\n",
            "  1%|▏         | 7/468 [00:00<00:07, 65.41it/s]"
          ],
          "name": "stderr"
        },
        {
          "output_type": "stream",
          "text": [
            "--------------- Epoch 71 ---------------\n"
          ],
          "name": "stdout"
        },
        {
          "output_type": "stream",
          "text": [
            "100%|██████████| 468/468 [00:07<00:00, 63.12it/s]\n",
            "  1%|▏         | 6/468 [00:00<00:07, 58.80it/s]"
          ],
          "name": "stderr"
        },
        {
          "output_type": "stream",
          "text": [
            "--------------- Epoch 72 ---------------\n"
          ],
          "name": "stdout"
        },
        {
          "output_type": "stream",
          "text": [
            "100%|██████████| 468/468 [00:07<00:00, 63.35it/s]\n",
            "  1%|▏         | 7/468 [00:00<00:06, 66.34it/s]"
          ],
          "name": "stderr"
        },
        {
          "output_type": "stream",
          "text": [
            "--------------- Epoch 73 ---------------\n"
          ],
          "name": "stdout"
        },
        {
          "output_type": "stream",
          "text": [
            "100%|██████████| 468/468 [00:07<00:00, 61.62it/s]\n",
            "  1%|▏         | 6/468 [00:00<00:08, 57.09it/s]"
          ],
          "name": "stderr"
        },
        {
          "output_type": "stream",
          "text": [
            "--------------- Epoch 74 ---------------\n"
          ],
          "name": "stdout"
        },
        {
          "output_type": "stream",
          "text": [
            "100%|██████████| 468/468 [00:07<00:00, 61.55it/s]\n",
            "  2%|▏         | 8/468 [00:00<00:06, 70.59it/s]"
          ],
          "name": "stderr"
        },
        {
          "output_type": "stream",
          "text": [
            "--------------- Epoch 75 ---------------\n"
          ],
          "name": "stdout"
        },
        {
          "output_type": "stream",
          "text": [
            "100%|██████████| 468/468 [00:07<00:00, 62.24it/s]\n",
            "  1%|▏         | 7/468 [00:00<00:06, 67.33it/s]"
          ],
          "name": "stderr"
        },
        {
          "output_type": "stream",
          "text": [
            "--------------- Epoch 76 ---------------\n"
          ],
          "name": "stdout"
        },
        {
          "output_type": "stream",
          "text": [
            "100%|██████████| 468/468 [00:07<00:00, 61.90it/s]\n",
            "  1%|▏         | 6/468 [00:00<00:07, 58.49it/s]"
          ],
          "name": "stderr"
        },
        {
          "output_type": "stream",
          "text": [
            "--------------- Epoch 77 ---------------\n"
          ],
          "name": "stdout"
        },
        {
          "output_type": "stream",
          "text": [
            "100%|██████████| 468/468 [00:07<00:00, 62.42it/s]\n",
            "  1%|▏         | 7/468 [00:00<00:07, 63.86it/s]"
          ],
          "name": "stderr"
        },
        {
          "output_type": "stream",
          "text": [
            "--------------- Epoch 78 ---------------\n"
          ],
          "name": "stdout"
        },
        {
          "output_type": "stream",
          "text": [
            "100%|██████████| 468/468 [00:07<00:00, 62.46it/s]\n",
            "  1%|▏         | 6/468 [00:00<00:08, 54.96it/s]"
          ],
          "name": "stderr"
        },
        {
          "output_type": "stream",
          "text": [
            "--------------- Epoch 79 ---------------\n"
          ],
          "name": "stdout"
        },
        {
          "output_type": "stream",
          "text": [
            "100%|██████████| 468/468 [00:07<00:00, 61.66it/s]\n",
            "  1%|▏         | 6/468 [00:00<00:08, 56.32it/s]"
          ],
          "name": "stderr"
        },
        {
          "output_type": "stream",
          "text": [
            "--------------- Epoch 80 ---------------\n"
          ],
          "name": "stdout"
        },
        {
          "output_type": "stream",
          "text": [
            "100%|██████████| 468/468 [00:07<00:00, 63.44it/s]\n",
            "  1%|▏         | 6/468 [00:00<00:08, 57.58it/s]"
          ],
          "name": "stderr"
        },
        {
          "output_type": "stream",
          "text": [
            "--------------- Epoch 81 ---------------\n"
          ],
          "name": "stdout"
        },
        {
          "output_type": "stream",
          "text": [
            "100%|██████████| 468/468 [00:07<00:00, 64.31it/s]\n",
            "  2%|▏         | 8/468 [00:00<00:06, 70.01it/s]"
          ],
          "name": "stderr"
        },
        {
          "output_type": "stream",
          "text": [
            "--------------- Epoch 82 ---------------\n"
          ],
          "name": "stdout"
        },
        {
          "output_type": "stream",
          "text": [
            "100%|██████████| 468/468 [00:07<00:00, 63.05it/s]\n",
            "  1%|▏         | 6/468 [00:00<00:08, 56.32it/s]"
          ],
          "name": "stderr"
        },
        {
          "output_type": "stream",
          "text": [
            "--------------- Epoch 83 ---------------\n"
          ],
          "name": "stdout"
        },
        {
          "output_type": "stream",
          "text": [
            "100%|██████████| 468/468 [00:07<00:00, 62.49it/s]\n",
            "  1%|▏         | 6/468 [00:00<00:08, 53.97it/s]"
          ],
          "name": "stderr"
        },
        {
          "output_type": "stream",
          "text": [
            "--------------- Epoch 84 ---------------\n"
          ],
          "name": "stdout"
        },
        {
          "output_type": "stream",
          "text": [
            "100%|██████████| 468/468 [00:07<00:00, 63.98it/s]\n",
            "  1%|▏         | 7/468 [00:00<00:06, 69.25it/s]"
          ],
          "name": "stderr"
        },
        {
          "output_type": "stream",
          "text": [
            "--------------- Epoch 85 ---------------\n"
          ],
          "name": "stdout"
        },
        {
          "output_type": "stream",
          "text": [
            "100%|██████████| 468/468 [00:07<00:00, 64.53it/s]\n",
            "  2%|▏         | 8/468 [00:00<00:06, 71.86it/s]"
          ],
          "name": "stderr"
        },
        {
          "output_type": "stream",
          "text": [
            "--------------- Epoch 86 ---------------\n"
          ],
          "name": "stdout"
        },
        {
          "output_type": "stream",
          "text": [
            "100%|██████████| 468/468 [00:07<00:00, 62.88it/s]\n",
            "  2%|▏         | 8/468 [00:00<00:06, 71.86it/s]"
          ],
          "name": "stderr"
        },
        {
          "output_type": "stream",
          "text": [
            "--------------- Epoch 87 ---------------\n"
          ],
          "name": "stdout"
        },
        {
          "output_type": "stream",
          "text": [
            "100%|██████████| 468/468 [00:07<00:00, 63.45it/s]\n",
            "  1%|▏         | 7/468 [00:00<00:06, 65.86it/s]"
          ],
          "name": "stderr"
        },
        {
          "output_type": "stream",
          "text": [
            "--------------- Epoch 88 ---------------\n"
          ],
          "name": "stdout"
        },
        {
          "output_type": "stream",
          "text": [
            "100%|██████████| 468/468 [00:07<00:00, 62.22it/s]\n",
            "  1%|▏         | 7/468 [00:00<00:06, 66.76it/s]"
          ],
          "name": "stderr"
        },
        {
          "output_type": "stream",
          "text": [
            "--------------- Epoch 89 ---------------\n"
          ],
          "name": "stdout"
        },
        {
          "output_type": "stream",
          "text": [
            "100%|██████████| 468/468 [00:07<00:00, 65.16it/s]\n",
            "  1%|▏         | 6/468 [00:00<00:07, 58.15it/s]"
          ],
          "name": "stderr"
        },
        {
          "output_type": "stream",
          "text": [
            "--------------- Epoch 90 ---------------\n"
          ],
          "name": "stdout"
        },
        {
          "output_type": "stream",
          "text": [
            "100%|██████████| 468/468 [00:07<00:00, 64.24it/s]\n",
            "  1%|▏         | 7/468 [00:00<00:06, 67.49it/s]"
          ],
          "name": "stderr"
        },
        {
          "output_type": "stream",
          "text": [
            "--------------- Epoch 91 ---------------\n"
          ],
          "name": "stdout"
        },
        {
          "output_type": "stream",
          "text": [
            "100%|██████████| 468/468 [00:07<00:00, 59.82it/s]\n",
            "  1%|▏         | 7/468 [00:00<00:07, 63.69it/s]"
          ],
          "name": "stderr"
        },
        {
          "output_type": "stream",
          "text": [
            "--------------- Epoch 92 ---------------\n"
          ],
          "name": "stdout"
        },
        {
          "output_type": "stream",
          "text": [
            "100%|██████████| 468/468 [00:07<00:00, 62.57it/s]\n",
            "  1%|▏         | 7/468 [00:00<00:07, 61.17it/s]"
          ],
          "name": "stderr"
        },
        {
          "output_type": "stream",
          "text": [
            "--------------- Epoch 93 ---------------\n"
          ],
          "name": "stdout"
        },
        {
          "output_type": "stream",
          "text": [
            "100%|██████████| 468/468 [00:07<00:00, 62.75it/s]\n",
            "  1%|▏         | 6/468 [00:00<00:08, 55.53it/s]"
          ],
          "name": "stderr"
        },
        {
          "output_type": "stream",
          "text": [
            "--------------- Epoch 94 ---------------\n"
          ],
          "name": "stdout"
        },
        {
          "output_type": "stream",
          "text": [
            "100%|██████████| 468/468 [00:07<00:00, 63.80it/s]\n",
            "  1%|▏         | 6/468 [00:00<00:08, 52.69it/s]"
          ],
          "name": "stderr"
        },
        {
          "output_type": "stream",
          "text": [
            "--------------- Epoch 95 ---------------\n"
          ],
          "name": "stdout"
        },
        {
          "output_type": "stream",
          "text": [
            "100%|██████████| 468/468 [00:07<00:00, 62.99it/s]\n",
            "  1%|▏         | 6/468 [00:00<00:07, 59.87it/s]"
          ],
          "name": "stderr"
        },
        {
          "output_type": "stream",
          "text": [
            "--------------- Epoch 96 ---------------\n"
          ],
          "name": "stdout"
        },
        {
          "output_type": "stream",
          "text": [
            "100%|██████████| 468/468 [00:07<00:00, 60.97it/s]\n",
            "  1%|▏         | 6/468 [00:00<00:08, 55.40it/s]"
          ],
          "name": "stderr"
        },
        {
          "output_type": "stream",
          "text": [
            "--------------- Epoch 97 ---------------\n"
          ],
          "name": "stdout"
        },
        {
          "output_type": "stream",
          "text": [
            "100%|██████████| 468/468 [00:07<00:00, 62.43it/s]\n",
            "  1%|▏         | 6/468 [00:00<00:08, 52.72it/s]"
          ],
          "name": "stderr"
        },
        {
          "output_type": "stream",
          "text": [
            "--------------- Epoch 98 ---------------\n"
          ],
          "name": "stdout"
        },
        {
          "output_type": "stream",
          "text": [
            "100%|██████████| 468/468 [00:07<00:00, 64.25it/s]\n",
            "  2%|▏         | 8/468 [00:00<00:06, 71.70it/s]"
          ],
          "name": "stderr"
        },
        {
          "output_type": "stream",
          "text": [
            "--------------- Epoch 99 ---------------\n"
          ],
          "name": "stdout"
        },
        {
          "output_type": "stream",
          "text": [
            "100%|██████████| 468/468 [00:07<00:00, 63.32it/s]\n",
            "  1%|▏         | 7/468 [00:00<00:06, 67.07it/s]"
          ],
          "name": "stderr"
        },
        {
          "output_type": "stream",
          "text": [
            "--------------- Epoch 100 ---------------\n"
          ],
          "name": "stdout"
        },
        {
          "output_type": "stream",
          "text": [
            "100%|██████████| 468/468 [00:07<00:00, 63.22it/s]\n",
            "  1%|▏         | 7/468 [00:00<00:07, 63.90it/s]"
          ],
          "name": "stderr"
        },
        {
          "output_type": "stream",
          "text": [
            "--------------- Epoch 101 ---------------\n"
          ],
          "name": "stdout"
        },
        {
          "output_type": "stream",
          "text": [
            "100%|██████████| 468/468 [00:07<00:00, 63.24it/s]\n",
            "  1%|▏         | 7/468 [00:00<00:07, 61.46it/s]"
          ],
          "name": "stderr"
        },
        {
          "output_type": "stream",
          "text": [
            "--------------- Epoch 102 ---------------\n"
          ],
          "name": "stdout"
        },
        {
          "output_type": "stream",
          "text": [
            "100%|██████████| 468/468 [00:07<00:00, 62.92it/s]\n",
            "  2%|▏         | 8/468 [00:00<00:06, 69.55it/s]"
          ],
          "name": "stderr"
        },
        {
          "output_type": "stream",
          "text": [
            "--------------- Epoch 103 ---------------\n"
          ],
          "name": "stdout"
        },
        {
          "output_type": "stream",
          "text": [
            "100%|██████████| 468/468 [00:07<00:00, 63.18it/s]\n",
            "  1%|▏         | 7/468 [00:00<00:06, 67.15it/s]"
          ],
          "name": "stderr"
        },
        {
          "output_type": "stream",
          "text": [
            "--------------- Epoch 104 ---------------\n"
          ],
          "name": "stdout"
        },
        {
          "output_type": "stream",
          "text": [
            "100%|██████████| 468/468 [00:07<00:00, 60.83it/s]\n",
            "  1%|▏         | 7/468 [00:00<00:06, 67.59it/s]"
          ],
          "name": "stderr"
        },
        {
          "output_type": "stream",
          "text": [
            "--------------- Epoch 105 ---------------\n"
          ],
          "name": "stdout"
        },
        {
          "output_type": "stream",
          "text": [
            "100%|██████████| 468/468 [00:07<00:00, 63.69it/s]\n",
            "  2%|▏         | 8/468 [00:00<00:06, 72.78it/s]"
          ],
          "name": "stderr"
        },
        {
          "output_type": "stream",
          "text": [
            "--------------- Epoch 106 ---------------\n"
          ],
          "name": "stdout"
        },
        {
          "output_type": "stream",
          "text": [
            "100%|██████████| 468/468 [00:07<00:00, 61.44it/s]\n",
            "  1%|▏         | 6/468 [00:00<00:08, 53.17it/s]"
          ],
          "name": "stderr"
        },
        {
          "output_type": "stream",
          "text": [
            "--------------- Epoch 107 ---------------\n"
          ],
          "name": "stdout"
        },
        {
          "output_type": "stream",
          "text": [
            "100%|██████████| 468/468 [00:07<00:00, 52.28it/s]\n",
            "  1%|▏         | 6/468 [00:00<00:07, 57.81it/s]"
          ],
          "name": "stderr"
        },
        {
          "output_type": "stream",
          "text": [
            "--------------- Epoch 108 ---------------\n"
          ],
          "name": "stdout"
        },
        {
          "output_type": "stream",
          "text": [
            "100%|██████████| 468/468 [00:07<00:00, 60.73it/s]\n",
            "  2%|▏         | 8/468 [00:00<00:06, 71.35it/s]"
          ],
          "name": "stderr"
        },
        {
          "output_type": "stream",
          "text": [
            "--------------- Epoch 109 ---------------\n"
          ],
          "name": "stdout"
        },
        {
          "output_type": "stream",
          "text": [
            "100%|██████████| 468/468 [00:07<00:00, 63.86it/s]\n",
            "  1%|▏         | 7/468 [00:00<00:07, 65.35it/s]"
          ],
          "name": "stderr"
        },
        {
          "output_type": "stream",
          "text": [
            "--------------- Epoch 110 ---------------\n"
          ],
          "name": "stdout"
        },
        {
          "output_type": "stream",
          "text": [
            "100%|██████████| 468/468 [00:07<00:00, 66.65it/s]\n",
            "  1%|▏         | 6/468 [00:00<00:07, 58.34it/s]"
          ],
          "name": "stderr"
        },
        {
          "output_type": "stream",
          "text": [
            "--------------- Epoch 111 ---------------\n"
          ],
          "name": "stdout"
        },
        {
          "output_type": "stream",
          "text": [
            "100%|██████████| 468/468 [00:07<00:00, 61.92it/s]\n",
            "  1%|▏         | 6/468 [00:00<00:07, 58.95it/s]"
          ],
          "name": "stderr"
        },
        {
          "output_type": "stream",
          "text": [
            "--------------- Epoch 112 ---------------\n"
          ],
          "name": "stdout"
        },
        {
          "output_type": "stream",
          "text": [
            "100%|██████████| 468/468 [00:07<00:00, 61.15it/s]\n",
            "  1%|▏         | 6/468 [00:00<00:07, 59.79it/s]"
          ],
          "name": "stderr"
        },
        {
          "output_type": "stream",
          "text": [
            "--------------- Epoch 113 ---------------\n"
          ],
          "name": "stdout"
        },
        {
          "output_type": "stream",
          "text": [
            "100%|██████████| 468/468 [00:07<00:00, 53.46it/s]\n",
            "  1%|▏         | 6/468 [00:00<00:08, 51.77it/s]"
          ],
          "name": "stderr"
        },
        {
          "output_type": "stream",
          "text": [
            "--------------- Epoch 114 ---------------\n"
          ],
          "name": "stdout"
        },
        {
          "output_type": "stream",
          "text": [
            "100%|██████████| 468/468 [00:08<00:00, 56.25it/s]\n",
            "  1%|▏         | 6/468 [00:00<00:08, 55.77it/s]"
          ],
          "name": "stderr"
        },
        {
          "output_type": "stream",
          "text": [
            "--------------- Epoch 115 ---------------\n"
          ],
          "name": "stdout"
        },
        {
          "output_type": "stream",
          "text": [
            "100%|██████████| 468/468 [00:07<00:00, 58.53it/s]\n",
            "  1%|▏         | 7/468 [00:00<00:06, 69.69it/s]"
          ],
          "name": "stderr"
        },
        {
          "output_type": "stream",
          "text": [
            "--------------- Epoch 116 ---------------\n"
          ],
          "name": "stdout"
        },
        {
          "output_type": "stream",
          "text": [
            "100%|██████████| 468/468 [00:07<00:00, 58.73it/s]\n",
            "  1%|▏         | 7/468 [00:00<00:07, 59.75it/s]"
          ],
          "name": "stderr"
        },
        {
          "output_type": "stream",
          "text": [
            "--------------- Epoch 117 ---------------\n"
          ],
          "name": "stdout"
        },
        {
          "output_type": "stream",
          "text": [
            "100%|██████████| 468/468 [00:07<00:00, 60.76it/s]\n",
            "  1%|▏         | 7/468 [00:00<00:07, 64.38it/s]"
          ],
          "name": "stderr"
        },
        {
          "output_type": "stream",
          "text": [
            "--------------- Epoch 118 ---------------\n"
          ],
          "name": "stdout"
        },
        {
          "output_type": "stream",
          "text": [
            "100%|██████████| 468/468 [00:07<00:00, 59.99it/s]\n",
            "  1%|▏         | 7/468 [00:00<00:07, 61.12it/s]"
          ],
          "name": "stderr"
        },
        {
          "output_type": "stream",
          "text": [
            "--------------- Epoch 119 ---------------\n"
          ],
          "name": "stdout"
        },
        {
          "output_type": "stream",
          "text": [
            "100%|██████████| 468/468 [00:07<00:00, 58.79it/s]\n",
            "  1%|▏         | 7/468 [00:00<00:06, 67.63it/s]"
          ],
          "name": "stderr"
        },
        {
          "output_type": "stream",
          "text": [
            "--------------- Epoch 120 ---------------\n"
          ],
          "name": "stdout"
        },
        {
          "output_type": "stream",
          "text": [
            "100%|██████████| 468/468 [00:07<00:00, 60.47it/s]\n",
            "  1%|▏         | 6/468 [00:00<00:08, 56.76it/s]"
          ],
          "name": "stderr"
        },
        {
          "output_type": "stream",
          "text": [
            "--------------- Epoch 121 ---------------\n"
          ],
          "name": "stdout"
        },
        {
          "output_type": "stream",
          "text": [
            "100%|██████████| 468/468 [00:07<00:00, 58.86it/s]\n",
            "  1%|▏         | 6/468 [00:00<00:08, 56.34it/s]"
          ],
          "name": "stderr"
        },
        {
          "output_type": "stream",
          "text": [
            "--------------- Epoch 122 ---------------\n"
          ],
          "name": "stdout"
        },
        {
          "output_type": "stream",
          "text": [
            "100%|██████████| 468/468 [00:08<00:00, 58.48it/s]\n",
            "  1%|▏         | 6/468 [00:00<00:08, 53.51it/s]"
          ],
          "name": "stderr"
        },
        {
          "output_type": "stream",
          "text": [
            "--------------- Epoch 123 ---------------\n"
          ],
          "name": "stdout"
        },
        {
          "output_type": "stream",
          "text": [
            "100%|██████████| 468/468 [00:08<00:00, 58.39it/s]\n",
            "  1%|▏         | 6/468 [00:00<00:07, 58.94it/s]"
          ],
          "name": "stderr"
        },
        {
          "output_type": "stream",
          "text": [
            "--------------- Epoch 124 ---------------\n"
          ],
          "name": "stdout"
        },
        {
          "output_type": "stream",
          "text": [
            "100%|██████████| 468/468 [00:07<00:00, 59.83it/s]\n",
            "  1%|▏         | 7/468 [00:00<00:07, 60.63it/s]"
          ],
          "name": "stderr"
        },
        {
          "output_type": "stream",
          "text": [
            "--------------- Epoch 125 ---------------\n"
          ],
          "name": "stdout"
        },
        {
          "output_type": "stream",
          "text": [
            "100%|██████████| 468/468 [00:08<00:00, 58.39it/s]\n",
            "  1%|▏         | 6/468 [00:00<00:08, 57.24it/s]"
          ],
          "name": "stderr"
        },
        {
          "output_type": "stream",
          "text": [
            "--------------- Epoch 126 ---------------\n"
          ],
          "name": "stdout"
        },
        {
          "output_type": "stream",
          "text": [
            "100%|██████████| 468/468 [00:07<00:00, 58.72it/s]\n",
            "  1%|▏         | 6/468 [00:00<00:07, 58.04it/s]"
          ],
          "name": "stderr"
        },
        {
          "output_type": "stream",
          "text": [
            "--------------- Epoch 127 ---------------\n"
          ],
          "name": "stdout"
        },
        {
          "output_type": "stream",
          "text": [
            "100%|██████████| 468/468 [00:07<00:00, 59.44it/s]\n",
            "  1%|▏         | 7/468 [00:00<00:07, 65.25it/s]"
          ],
          "name": "stderr"
        },
        {
          "output_type": "stream",
          "text": [
            "--------------- Epoch 128 ---------------\n"
          ],
          "name": "stdout"
        },
        {
          "output_type": "stream",
          "text": [
            "100%|██████████| 468/468 [00:07<00:00, 59.55it/s]\n",
            "  1%|▏         | 7/468 [00:00<00:07, 64.27it/s]"
          ],
          "name": "stderr"
        },
        {
          "output_type": "stream",
          "text": [
            "--------------- Epoch 129 ---------------\n"
          ],
          "name": "stdout"
        },
        {
          "output_type": "stream",
          "text": [
            "100%|██████████| 468/468 [00:07<00:00, 58.87it/s]\n",
            "  1%|▏         | 7/468 [00:00<00:07, 61.08it/s]"
          ],
          "name": "stderr"
        },
        {
          "output_type": "stream",
          "text": [
            "--------------- Epoch 130 ---------------\n"
          ],
          "name": "stdout"
        },
        {
          "output_type": "stream",
          "text": [
            "100%|██████████| 468/468 [00:08<00:00, 55.22it/s]\n",
            "  1%|▏         | 6/468 [00:00<00:08, 51.37it/s]"
          ],
          "name": "stderr"
        },
        {
          "output_type": "stream",
          "text": [
            "--------------- Epoch 131 ---------------\n"
          ],
          "name": "stdout"
        },
        {
          "output_type": "stream",
          "text": [
            "100%|██████████| 468/468 [00:07<00:00, 59.52it/s]\n",
            "  1%|▏         | 6/468 [00:00<00:07, 57.82it/s]"
          ],
          "name": "stderr"
        },
        {
          "output_type": "stream",
          "text": [
            "--------------- Epoch 132 ---------------\n"
          ],
          "name": "stdout"
        },
        {
          "output_type": "stream",
          "text": [
            "100%|██████████| 468/468 [00:07<00:00, 58.77it/s]\n",
            "  1%|▏         | 7/468 [00:00<00:07, 65.46it/s]"
          ],
          "name": "stderr"
        },
        {
          "output_type": "stream",
          "text": [
            "--------------- Epoch 133 ---------------\n"
          ],
          "name": "stdout"
        },
        {
          "output_type": "stream",
          "text": [
            "100%|██████████| 468/468 [00:07<00:00, 59.46it/s]\n",
            "  2%|▏         | 8/468 [00:00<00:06, 68.66it/s]"
          ],
          "name": "stderr"
        },
        {
          "output_type": "stream",
          "text": [
            "--------------- Epoch 134 ---------------\n"
          ],
          "name": "stdout"
        },
        {
          "output_type": "stream",
          "text": [
            "100%|██████████| 468/468 [00:07<00:00, 60.65it/s]\n",
            "  1%|▏         | 6/468 [00:00<00:08, 53.21it/s]"
          ],
          "name": "stderr"
        },
        {
          "output_type": "stream",
          "text": [
            "--------------- Epoch 135 ---------------\n"
          ],
          "name": "stdout"
        },
        {
          "output_type": "stream",
          "text": [
            "100%|██████████| 468/468 [00:08<00:00, 58.29it/s]\n",
            "  2%|▏         | 8/468 [00:00<00:06, 72.52it/s]"
          ],
          "name": "stderr"
        },
        {
          "output_type": "stream",
          "text": [
            "--------------- Epoch 136 ---------------\n"
          ],
          "name": "stdout"
        },
        {
          "output_type": "stream",
          "text": [
            "100%|██████████| 468/468 [00:07<00:00, 59.99it/s]\n",
            "  1%|▏         | 6/468 [00:00<00:07, 58.95it/s]"
          ],
          "name": "stderr"
        },
        {
          "output_type": "stream",
          "text": [
            "--------------- Epoch 137 ---------------\n"
          ],
          "name": "stdout"
        },
        {
          "output_type": "stream",
          "text": [
            "100%|██████████| 468/468 [00:08<00:00, 58.20it/s]\n",
            "  1%|▏         | 6/468 [00:00<00:07, 57.90it/s]"
          ],
          "name": "stderr"
        },
        {
          "output_type": "stream",
          "text": [
            "--------------- Epoch 138 ---------------\n"
          ],
          "name": "stdout"
        },
        {
          "output_type": "stream",
          "text": [
            "100%|██████████| 468/468 [00:08<00:00, 57.03it/s]\n",
            "  1%|▏         | 6/468 [00:00<00:07, 58.77it/s]"
          ],
          "name": "stderr"
        },
        {
          "output_type": "stream",
          "text": [
            "--------------- Epoch 139 ---------------\n"
          ],
          "name": "stdout"
        },
        {
          "output_type": "stream",
          "text": [
            "100%|██████████| 468/468 [00:07<00:00, 58.66it/s]\n",
            "  1%|▏         | 6/468 [00:00<00:07, 58.11it/s]"
          ],
          "name": "stderr"
        },
        {
          "output_type": "stream",
          "text": [
            "--------------- Epoch 140 ---------------\n"
          ],
          "name": "stdout"
        },
        {
          "output_type": "stream",
          "text": [
            "100%|██████████| 468/468 [00:08<00:00, 58.16it/s]\n",
            "  1%|▏         | 6/468 [00:00<00:08, 55.62it/s]"
          ],
          "name": "stderr"
        },
        {
          "output_type": "stream",
          "text": [
            "--------------- Epoch 141 ---------------\n"
          ],
          "name": "stdout"
        },
        {
          "output_type": "stream",
          "text": [
            "100%|██████████| 468/468 [00:08<00:00, 57.44it/s]\n",
            "  1%|▏         | 6/468 [00:00<00:08, 53.74it/s]"
          ],
          "name": "stderr"
        },
        {
          "output_type": "stream",
          "text": [
            "--------------- Epoch 142 ---------------\n"
          ],
          "name": "stdout"
        },
        {
          "output_type": "stream",
          "text": [
            "100%|██████████| 468/468 [00:08<00:00, 57.45it/s]\n",
            "  1%|▏         | 6/468 [00:00<00:07, 58.81it/s]"
          ],
          "name": "stderr"
        },
        {
          "output_type": "stream",
          "text": [
            "--------------- Epoch 143 ---------------\n"
          ],
          "name": "stdout"
        },
        {
          "output_type": "stream",
          "text": [
            "100%|██████████| 468/468 [00:07<00:00, 58.96it/s]\n",
            "  1%|▏         | 6/468 [00:00<00:08, 55.55it/s]"
          ],
          "name": "stderr"
        },
        {
          "output_type": "stream",
          "text": [
            "--------------- Epoch 144 ---------------\n"
          ],
          "name": "stdout"
        },
        {
          "output_type": "stream",
          "text": [
            "100%|██████████| 468/468 [00:08<00:00, 56.56it/s]\n",
            "  1%|▏         | 7/468 [00:00<00:07, 60.61it/s]"
          ],
          "name": "stderr"
        },
        {
          "output_type": "stream",
          "text": [
            "--------------- Epoch 145 ---------------\n"
          ],
          "name": "stdout"
        },
        {
          "output_type": "stream",
          "text": [
            "100%|██████████| 468/468 [00:08<00:00, 56.82it/s]\n",
            "  1%|▏         | 7/468 [00:00<00:06, 67.73it/s]"
          ],
          "name": "stderr"
        },
        {
          "output_type": "stream",
          "text": [
            "--------------- Epoch 146 ---------------\n"
          ],
          "name": "stdout"
        },
        {
          "output_type": "stream",
          "text": [
            "100%|██████████| 468/468 [00:08<00:00, 57.96it/s]\n",
            "  1%|▏         | 6/468 [00:00<00:08, 56.69it/s]"
          ],
          "name": "stderr"
        },
        {
          "output_type": "stream",
          "text": [
            "--------------- Epoch 147 ---------------\n"
          ],
          "name": "stdout"
        },
        {
          "output_type": "stream",
          "text": [
            "100%|██████████| 468/468 [00:08<00:00, 53.56it/s]\n",
            "  1%|▏         | 6/468 [00:00<00:08, 54.75it/s]"
          ],
          "name": "stderr"
        },
        {
          "output_type": "stream",
          "text": [
            "--------------- Epoch 148 ---------------\n"
          ],
          "name": "stdout"
        },
        {
          "output_type": "stream",
          "text": [
            "100%|██████████| 468/468 [00:08<00:00, 55.42it/s]\n",
            "  1%|▏         | 6/468 [00:00<00:08, 51.35it/s]"
          ],
          "name": "stderr"
        },
        {
          "output_type": "stream",
          "text": [
            "--------------- Epoch 149 ---------------\n"
          ],
          "name": "stdout"
        },
        {
          "output_type": "stream",
          "text": [
            "100%|██████████| 468/468 [00:08<00:00, 60.65it/s]\n",
            "  1%|▏         | 6/468 [00:00<00:08, 56.09it/s]"
          ],
          "name": "stderr"
        },
        {
          "output_type": "stream",
          "text": [
            "--------------- Epoch 150 ---------------\n"
          ],
          "name": "stdout"
        },
        {
          "output_type": "stream",
          "text": [
            "100%|██████████| 468/468 [00:08<00:00, 57.62it/s]\n",
            "  1%|▏         | 6/468 [00:00<00:08, 54.51it/s]"
          ],
          "name": "stderr"
        },
        {
          "output_type": "stream",
          "text": [
            "--------------- Epoch 151 ---------------\n"
          ],
          "name": "stdout"
        },
        {
          "output_type": "stream",
          "text": [
            "100%|██████████| 468/468 [00:08<00:00, 57.43it/s]\n",
            "  1%|▏         | 6/468 [00:00<00:08, 56.02it/s]"
          ],
          "name": "stderr"
        },
        {
          "output_type": "stream",
          "text": [
            "--------------- Epoch 152 ---------------\n"
          ],
          "name": "stdout"
        },
        {
          "output_type": "stream",
          "text": [
            "100%|██████████| 468/468 [00:08<00:00, 55.36it/s]\n",
            "  1%|▏         | 6/468 [00:00<00:08, 52.94it/s]"
          ],
          "name": "stderr"
        },
        {
          "output_type": "stream",
          "text": [
            "--------------- Epoch 153 ---------------\n"
          ],
          "name": "stdout"
        },
        {
          "output_type": "stream",
          "text": [
            "100%|██████████| 468/468 [00:08<00:00, 57.30it/s]\n",
            "  1%|▏         | 6/468 [00:00<00:08, 56.81it/s]"
          ],
          "name": "stderr"
        },
        {
          "output_type": "stream",
          "text": [
            "--------------- Epoch 154 ---------------\n"
          ],
          "name": "stdout"
        },
        {
          "output_type": "stream",
          "text": [
            "100%|██████████| 468/468 [00:07<00:00, 58.57it/s]\n",
            "  1%|▏         | 6/468 [00:00<00:07, 57.84it/s]"
          ],
          "name": "stderr"
        },
        {
          "output_type": "stream",
          "text": [
            "--------------- Epoch 155 ---------------\n"
          ],
          "name": "stdout"
        },
        {
          "output_type": "stream",
          "text": [
            "100%|██████████| 468/468 [00:08<00:00, 57.77it/s]\n",
            "  1%|▏         | 6/468 [00:00<00:08, 56.60it/s]"
          ],
          "name": "stderr"
        },
        {
          "output_type": "stream",
          "text": [
            "--------------- Epoch 156 ---------------\n"
          ],
          "name": "stdout"
        },
        {
          "output_type": "stream",
          "text": [
            "100%|██████████| 468/468 [00:07<00:00, 59.58it/s]\n",
            "  1%|▏         | 6/468 [00:00<00:08, 54.31it/s]"
          ],
          "name": "stderr"
        },
        {
          "output_type": "stream",
          "text": [
            "--------------- Epoch 157 ---------------\n"
          ],
          "name": "stdout"
        },
        {
          "output_type": "stream",
          "text": [
            "100%|██████████| 468/468 [00:08<00:00, 57.20it/s]\n",
            "  1%|▏         | 6/468 [00:00<00:08, 57.23it/s]"
          ],
          "name": "stderr"
        },
        {
          "output_type": "stream",
          "text": [
            "--------------- Epoch 158 ---------------\n"
          ],
          "name": "stdout"
        },
        {
          "output_type": "stream",
          "text": [
            "100%|██████████| 468/468 [00:08<00:00, 56.84it/s]\n",
            "  1%|▏         | 6/468 [00:00<00:08, 54.70it/s]"
          ],
          "name": "stderr"
        },
        {
          "output_type": "stream",
          "text": [
            "--------------- Epoch 159 ---------------\n"
          ],
          "name": "stdout"
        },
        {
          "output_type": "stream",
          "text": [
            "100%|██████████| 468/468 [00:08<00:00, 56.68it/s]\n",
            "  1%|▏         | 6/468 [00:00<00:08, 53.01it/s]"
          ],
          "name": "stderr"
        },
        {
          "output_type": "stream",
          "text": [
            "--------------- Epoch 160 ---------------\n"
          ],
          "name": "stdout"
        },
        {
          "output_type": "stream",
          "text": [
            "100%|██████████| 468/468 [00:08<00:00, 56.45it/s]\n",
            "  1%|▏         | 6/468 [00:00<00:08, 52.81it/s]"
          ],
          "name": "stderr"
        },
        {
          "output_type": "stream",
          "text": [
            "--------------- Epoch 161 ---------------\n"
          ],
          "name": "stdout"
        },
        {
          "output_type": "stream",
          "text": [
            "100%|██████████| 468/468 [00:07<00:00, 60.27it/s]\n",
            "  1%|▏         | 6/468 [00:00<00:08, 56.97it/s]"
          ],
          "name": "stderr"
        },
        {
          "output_type": "stream",
          "text": [
            "--------------- Epoch 162 ---------------\n"
          ],
          "name": "stdout"
        },
        {
          "output_type": "stream",
          "text": [
            "100%|██████████| 468/468 [00:08<00:00, 55.62it/s]\n",
            "  1%|▏         | 6/468 [00:00<00:08, 57.59it/s]"
          ],
          "name": "stderr"
        },
        {
          "output_type": "stream",
          "text": [
            "--------------- Epoch 163 ---------------\n"
          ],
          "name": "stdout"
        },
        {
          "output_type": "stream",
          "text": [
            "100%|██████████| 468/468 [00:08<00:00, 57.25it/s]\n",
            "  1%|▏         | 6/468 [00:00<00:07, 59.12it/s]"
          ],
          "name": "stderr"
        },
        {
          "output_type": "stream",
          "text": [
            "--------------- Epoch 164 ---------------\n"
          ],
          "name": "stdout"
        },
        {
          "output_type": "stream",
          "text": [
            "100%|██████████| 468/468 [00:08<00:00, 57.02it/s]\n",
            "  1%|▏         | 6/468 [00:00<00:07, 58.18it/s]"
          ],
          "name": "stderr"
        },
        {
          "output_type": "stream",
          "text": [
            "--------------- Epoch 165 ---------------\n"
          ],
          "name": "stdout"
        },
        {
          "output_type": "stream",
          "text": [
            "100%|██████████| 468/468 [00:08<00:00, 58.36it/s]\n",
            "  1%|▏         | 6/468 [00:00<00:08, 54.81it/s]"
          ],
          "name": "stderr"
        },
        {
          "output_type": "stream",
          "text": [
            "--------------- Epoch 166 ---------------\n"
          ],
          "name": "stdout"
        },
        {
          "output_type": "stream",
          "text": [
            "100%|██████████| 468/468 [00:08<00:00, 56.74it/s]\n",
            "  1%|▏         | 6/468 [00:00<00:08, 53.66it/s]"
          ],
          "name": "stderr"
        },
        {
          "output_type": "stream",
          "text": [
            "--------------- Epoch 167 ---------------\n"
          ],
          "name": "stdout"
        },
        {
          "output_type": "stream",
          "text": [
            "100%|██████████| 468/468 [00:08<00:00, 61.72it/s]\n",
            "  1%|▏         | 6/468 [00:00<00:07, 59.25it/s]"
          ],
          "name": "stderr"
        },
        {
          "output_type": "stream",
          "text": [
            "--------------- Epoch 168 ---------------\n"
          ],
          "name": "stdout"
        },
        {
          "output_type": "stream",
          "text": [
            "100%|██████████| 468/468 [00:08<00:00, 56.56it/s]\n",
            "  2%|▏         | 8/468 [00:00<00:06, 70.18it/s]"
          ],
          "name": "stderr"
        },
        {
          "output_type": "stream",
          "text": [
            "--------------- Epoch 169 ---------------\n"
          ],
          "name": "stdout"
        },
        {
          "output_type": "stream",
          "text": [
            "100%|██████████| 468/468 [00:07<00:00, 59.58it/s]\n",
            "  1%|▏         | 6/468 [00:00<00:08, 52.53it/s]"
          ],
          "name": "stderr"
        },
        {
          "output_type": "stream",
          "text": [
            "--------------- Epoch 170 ---------------\n"
          ],
          "name": "stdout"
        },
        {
          "output_type": "stream",
          "text": [
            "100%|██████████| 468/468 [00:08<00:00, 57.84it/s]\n",
            "  1%|▏         | 6/468 [00:00<00:08, 57.35it/s]"
          ],
          "name": "stderr"
        },
        {
          "output_type": "stream",
          "text": [
            "--------------- Epoch 171 ---------------\n"
          ],
          "name": "stdout"
        },
        {
          "output_type": "stream",
          "text": [
            "100%|██████████| 468/468 [00:08<00:00, 59.16it/s]\n",
            "  1%|▏         | 6/468 [00:00<00:08, 52.42it/s]"
          ],
          "name": "stderr"
        },
        {
          "output_type": "stream",
          "text": [
            "--------------- Epoch 172 ---------------\n"
          ],
          "name": "stdout"
        },
        {
          "output_type": "stream",
          "text": [
            "100%|██████████| 468/468 [00:08<00:00, 57.21it/s]\n",
            "  1%|▏         | 6/468 [00:00<00:08, 57.05it/s]"
          ],
          "name": "stderr"
        },
        {
          "output_type": "stream",
          "text": [
            "--------------- Epoch 173 ---------------\n"
          ],
          "name": "stdout"
        },
        {
          "output_type": "stream",
          "text": [
            "100%|██████████| 468/468 [00:08<00:00, 56.93it/s]\n",
            "  1%|▏         | 7/468 [00:00<00:07, 65.21it/s]"
          ],
          "name": "stderr"
        },
        {
          "output_type": "stream",
          "text": [
            "--------------- Epoch 174 ---------------\n"
          ],
          "name": "stdout"
        },
        {
          "output_type": "stream",
          "text": [
            "100%|██████████| 468/468 [00:08<00:00, 56.20it/s]\n",
            "  1%|▏         | 6/468 [00:00<00:08, 56.80it/s]"
          ],
          "name": "stderr"
        },
        {
          "output_type": "stream",
          "text": [
            "--------------- Epoch 175 ---------------\n"
          ],
          "name": "stdout"
        },
        {
          "output_type": "stream",
          "text": [
            "100%|██████████| 468/468 [00:08<00:00, 57.84it/s]\n",
            "  1%|▏         | 6/468 [00:00<00:07, 58.91it/s]"
          ],
          "name": "stderr"
        },
        {
          "output_type": "stream",
          "text": [
            "--------------- Epoch 176 ---------------\n"
          ],
          "name": "stdout"
        },
        {
          "output_type": "stream",
          "text": [
            "100%|██████████| 468/468 [00:08<00:00, 57.52it/s]\n",
            "  1%|▏         | 6/468 [00:00<00:08, 54.69it/s]"
          ],
          "name": "stderr"
        },
        {
          "output_type": "stream",
          "text": [
            "--------------- Epoch 177 ---------------\n"
          ],
          "name": "stdout"
        },
        {
          "output_type": "stream",
          "text": [
            "100%|██████████| 468/468 [00:08<00:00, 57.82it/s]\n",
            "  1%|▏         | 6/468 [00:00<00:08, 56.64it/s]"
          ],
          "name": "stderr"
        },
        {
          "output_type": "stream",
          "text": [
            "--------------- Epoch 178 ---------------\n"
          ],
          "name": "stdout"
        },
        {
          "output_type": "stream",
          "text": [
            "100%|██████████| 468/468 [00:08<00:00, 57.33it/s]\n",
            "  1%|▏         | 6/468 [00:00<00:08, 56.51it/s]"
          ],
          "name": "stderr"
        },
        {
          "output_type": "stream",
          "text": [
            "--------------- Epoch 179 ---------------\n"
          ],
          "name": "stdout"
        },
        {
          "output_type": "stream",
          "text": [
            "100%|██████████| 468/468 [00:08<00:00, 53.74it/s]\n",
            "  1%|▏         | 6/468 [00:00<00:08, 53.53it/s]"
          ],
          "name": "stderr"
        },
        {
          "output_type": "stream",
          "text": [
            "--------------- Epoch 180 ---------------\n"
          ],
          "name": "stdout"
        },
        {
          "output_type": "stream",
          "text": [
            "100%|██████████| 468/468 [00:08<00:00, 55.22it/s]\n",
            "  1%|▏         | 6/468 [00:00<00:08, 52.99it/s]"
          ],
          "name": "stderr"
        },
        {
          "output_type": "stream",
          "text": [
            "--------------- Epoch 181 ---------------\n"
          ],
          "name": "stdout"
        },
        {
          "output_type": "stream",
          "text": [
            "100%|██████████| 468/468 [00:08<00:00, 56.84it/s]\n",
            "  1%|▏         | 6/468 [00:00<00:07, 58.06it/s]"
          ],
          "name": "stderr"
        },
        {
          "output_type": "stream",
          "text": [
            "--------------- Epoch 182 ---------------\n"
          ],
          "name": "stdout"
        },
        {
          "output_type": "stream",
          "text": [
            "100%|██████████| 468/468 [00:08<00:00, 56.80it/s]\n",
            "  1%|▏         | 6/468 [00:00<00:07, 57.92it/s]"
          ],
          "name": "stderr"
        },
        {
          "output_type": "stream",
          "text": [
            "--------------- Epoch 183 ---------------\n"
          ],
          "name": "stdout"
        },
        {
          "output_type": "stream",
          "text": [
            "100%|██████████| 468/468 [00:08<00:00, 58.39it/s]\n",
            "  1%|▏         | 7/468 [00:00<00:06, 67.71it/s]"
          ],
          "name": "stderr"
        },
        {
          "output_type": "stream",
          "text": [
            "--------------- Epoch 184 ---------------\n"
          ],
          "name": "stdout"
        },
        {
          "output_type": "stream",
          "text": [
            "100%|██████████| 468/468 [00:08<00:00, 58.04it/s]\n",
            "  1%|▏         | 6/468 [00:00<00:08, 54.59it/s]"
          ],
          "name": "stderr"
        },
        {
          "output_type": "stream",
          "text": [
            "--------------- Epoch 185 ---------------\n"
          ],
          "name": "stdout"
        },
        {
          "output_type": "stream",
          "text": [
            "100%|██████████| 468/468 [00:08<00:00, 55.26it/s]\n",
            "  1%|▏         | 6/468 [00:00<00:07, 58.33it/s]"
          ],
          "name": "stderr"
        },
        {
          "output_type": "stream",
          "text": [
            "--------------- Epoch 186 ---------------\n"
          ],
          "name": "stdout"
        },
        {
          "output_type": "stream",
          "text": [
            "100%|██████████| 468/468 [00:08<00:00, 54.61it/s]\n",
            "  1%|▏         | 6/468 [00:00<00:08, 54.08it/s]"
          ],
          "name": "stderr"
        },
        {
          "output_type": "stream",
          "text": [
            "--------------- Epoch 187 ---------------\n"
          ],
          "name": "stdout"
        },
        {
          "output_type": "stream",
          "text": [
            "100%|██████████| 468/468 [00:08<00:00, 54.85it/s]\n",
            "  1%|▏         | 6/468 [00:00<00:07, 59.68it/s]"
          ],
          "name": "stderr"
        },
        {
          "output_type": "stream",
          "text": [
            "--------------- Epoch 188 ---------------\n"
          ],
          "name": "stdout"
        },
        {
          "output_type": "stream",
          "text": [
            "100%|██████████| 468/468 [00:08<00:00, 51.06it/s]\n",
            "  1%|▏         | 6/468 [00:00<00:08, 55.24it/s]"
          ],
          "name": "stderr"
        },
        {
          "output_type": "stream",
          "text": [
            "--------------- Epoch 189 ---------------\n"
          ],
          "name": "stdout"
        },
        {
          "output_type": "stream",
          "text": [
            "100%|██████████| 468/468 [00:08<00:00, 53.92it/s]\n",
            "  1%|▏         | 6/468 [00:00<00:08, 52.06it/s]"
          ],
          "name": "stderr"
        },
        {
          "output_type": "stream",
          "text": [
            "--------------- Epoch 190 ---------------\n"
          ],
          "name": "stdout"
        },
        {
          "output_type": "stream",
          "text": [
            "100%|██████████| 468/468 [00:08<00:00, 53.67it/s]\n",
            "  1%|▏         | 6/468 [00:00<00:07, 58.89it/s]"
          ],
          "name": "stderr"
        },
        {
          "output_type": "stream",
          "text": [
            "--------------- Epoch 191 ---------------\n"
          ],
          "name": "stdout"
        },
        {
          "output_type": "stream",
          "text": [
            "100%|██████████| 468/468 [00:08<00:00, 53.49it/s]\n",
            "  1%|▏         | 6/468 [00:00<00:08, 55.35it/s]"
          ],
          "name": "stderr"
        },
        {
          "output_type": "stream",
          "text": [
            "--------------- Epoch 192 ---------------\n"
          ],
          "name": "stdout"
        },
        {
          "output_type": "stream",
          "text": [
            "100%|██████████| 468/468 [00:08<00:00, 54.75it/s]\n",
            "  1%|▏         | 6/468 [00:00<00:08, 54.49it/s]"
          ],
          "name": "stderr"
        },
        {
          "output_type": "stream",
          "text": [
            "--------------- Epoch 193 ---------------\n"
          ],
          "name": "stdout"
        },
        {
          "output_type": "stream",
          "text": [
            "100%|██████████| 468/468 [00:08<00:00, 55.47it/s]\n",
            "  1%|▏         | 6/468 [00:00<00:08, 54.31it/s]"
          ],
          "name": "stderr"
        },
        {
          "output_type": "stream",
          "text": [
            "--------------- Epoch 194 ---------------\n"
          ],
          "name": "stdout"
        },
        {
          "output_type": "stream",
          "text": [
            "100%|██████████| 468/468 [00:08<00:00, 54.51it/s]\n",
            "  1%|▏         | 6/468 [00:00<00:08, 54.45it/s]"
          ],
          "name": "stderr"
        },
        {
          "output_type": "stream",
          "text": [
            "--------------- Epoch 195 ---------------\n"
          ],
          "name": "stdout"
        },
        {
          "output_type": "stream",
          "text": [
            "100%|██████████| 468/468 [00:08<00:00, 55.03it/s]\n",
            "  1%|▏         | 6/468 [00:00<00:08, 53.55it/s]"
          ],
          "name": "stderr"
        },
        {
          "output_type": "stream",
          "text": [
            "--------------- Epoch 196 ---------------\n"
          ],
          "name": "stdout"
        },
        {
          "output_type": "stream",
          "text": [
            "100%|██████████| 468/468 [00:08<00:00, 55.93it/s]\n",
            "  1%|▏         | 6/468 [00:00<00:08, 51.88it/s]"
          ],
          "name": "stderr"
        },
        {
          "output_type": "stream",
          "text": [
            "--------------- Epoch 197 ---------------\n"
          ],
          "name": "stdout"
        },
        {
          "output_type": "stream",
          "text": [
            "100%|██████████| 468/468 [00:08<00:00, 56.68it/s]\n",
            "  1%|▏         | 6/468 [00:00<00:08, 52.00it/s]"
          ],
          "name": "stderr"
        },
        {
          "output_type": "stream",
          "text": [
            "--------------- Epoch 198 ---------------\n"
          ],
          "name": "stdout"
        },
        {
          "output_type": "stream",
          "text": [
            "100%|██████████| 468/468 [00:08<00:00, 54.01it/s]\n",
            "  1%|▏         | 6/468 [00:00<00:08, 56.38it/s]"
          ],
          "name": "stderr"
        },
        {
          "output_type": "stream",
          "text": [
            "--------------- Epoch 199 ---------------\n"
          ],
          "name": "stdout"
        },
        {
          "output_type": "stream",
          "text": [
            "100%|██████████| 468/468 [00:08<00:00, 55.51it/s]\n",
            "  1%|▏         | 6/468 [00:00<00:08, 55.13it/s]"
          ],
          "name": "stderr"
        },
        {
          "output_type": "stream",
          "text": [
            "--------------- Epoch 200 ---------------\n"
          ],
          "name": "stdout"
        },
        {
          "output_type": "stream",
          "text": [
            "100%|██████████| 468/468 [00:08<00:00, 55.88it/s]\n",
            "  1%|          | 5/468 [00:00<00:10, 42.73it/s]"
          ],
          "name": "stderr"
        },
        {
          "output_type": "stream",
          "text": [
            "--------------- Epoch 201 ---------------\n"
          ],
          "name": "stdout"
        },
        {
          "output_type": "stream",
          "text": [
            "100%|██████████| 468/468 [00:08<00:00, 55.73it/s]\n",
            "  1%|▏         | 7/468 [00:00<00:07, 64.09it/s]"
          ],
          "name": "stderr"
        },
        {
          "output_type": "stream",
          "text": [
            "--------------- Epoch 202 ---------------\n"
          ],
          "name": "stdout"
        },
        {
          "output_type": "stream",
          "text": [
            "100%|██████████| 468/468 [00:08<00:00, 52.03it/s]\n",
            "  1%|▏         | 6/468 [00:00<00:08, 55.29it/s]"
          ],
          "name": "stderr"
        },
        {
          "output_type": "stream",
          "text": [
            "--------------- Epoch 203 ---------------\n"
          ],
          "name": "stdout"
        },
        {
          "output_type": "stream",
          "text": [
            "100%|██████████| 468/468 [00:08<00:00, 53.77it/s]\n",
            "  1%|          | 5/468 [00:00<00:09, 46.60it/s]"
          ],
          "name": "stderr"
        },
        {
          "output_type": "stream",
          "text": [
            "--------------- Epoch 204 ---------------\n"
          ],
          "name": "stdout"
        },
        {
          "output_type": "stream",
          "text": [
            "100%|██████████| 468/468 [00:08<00:00, 54.63it/s]\n",
            "  1%|▏         | 6/468 [00:00<00:08, 57.11it/s]"
          ],
          "name": "stderr"
        },
        {
          "output_type": "stream",
          "text": [
            "--------------- Epoch 205 ---------------\n"
          ],
          "name": "stdout"
        },
        {
          "output_type": "stream",
          "text": [
            "100%|██████████| 468/468 [00:08<00:00, 55.82it/s]\n",
            "  1%|▏         | 6/468 [00:00<00:08, 54.57it/s]"
          ],
          "name": "stderr"
        },
        {
          "output_type": "stream",
          "text": [
            "--------------- Epoch 206 ---------------\n"
          ],
          "name": "stdout"
        },
        {
          "output_type": "stream",
          "text": [
            "100%|██████████| 468/468 [00:08<00:00, 54.09it/s]\n",
            "  1%|▏         | 6/468 [00:00<00:08, 57.16it/s]"
          ],
          "name": "stderr"
        },
        {
          "output_type": "stream",
          "text": [
            "--------------- Epoch 207 ---------------\n"
          ],
          "name": "stdout"
        },
        {
          "output_type": "stream",
          "text": [
            "100%|██████████| 468/468 [00:08<00:00, 55.15it/s]\n",
            "  1%|▏         | 6/468 [00:00<00:08, 55.64it/s]"
          ],
          "name": "stderr"
        },
        {
          "output_type": "stream",
          "text": [
            "--------------- Epoch 208 ---------------\n"
          ],
          "name": "stdout"
        },
        {
          "output_type": "stream",
          "text": [
            "100%|██████████| 468/468 [00:08<00:00, 51.04it/s]\n",
            "  1%|▏         | 6/468 [00:00<00:07, 58.84it/s]"
          ],
          "name": "stderr"
        },
        {
          "output_type": "stream",
          "text": [
            "--------------- Epoch 209 ---------------\n"
          ],
          "name": "stdout"
        },
        {
          "output_type": "stream",
          "text": [
            "100%|██████████| 468/468 [00:08<00:00, 54.11it/s]\n",
            "  1%|▏         | 6/468 [00:00<00:08, 54.10it/s]"
          ],
          "name": "stderr"
        },
        {
          "output_type": "stream",
          "text": [
            "--------------- Epoch 210 ---------------\n"
          ],
          "name": "stdout"
        },
        {
          "output_type": "stream",
          "text": [
            "100%|██████████| 468/468 [00:08<00:00, 57.71it/s]\n",
            "  1%|▏         | 7/468 [00:00<00:07, 65.29it/s]"
          ],
          "name": "stderr"
        },
        {
          "output_type": "stream",
          "text": [
            "--------------- Epoch 211 ---------------\n"
          ],
          "name": "stdout"
        },
        {
          "output_type": "stream",
          "text": [
            "100%|██████████| 468/468 [00:08<00:00, 57.82it/s]\n",
            "  1%|▏         | 6/468 [00:00<00:08, 54.17it/s]"
          ],
          "name": "stderr"
        },
        {
          "output_type": "stream",
          "text": [
            "--------------- Epoch 212 ---------------\n"
          ],
          "name": "stdout"
        },
        {
          "output_type": "stream",
          "text": [
            "100%|██████████| 468/468 [00:08<00:00, 58.37it/s]\n",
            "  1%|▏         | 6/468 [00:00<00:08, 54.82it/s]"
          ],
          "name": "stderr"
        },
        {
          "output_type": "stream",
          "text": [
            "--------------- Epoch 213 ---------------\n"
          ],
          "name": "stdout"
        },
        {
          "output_type": "stream",
          "text": [
            "100%|██████████| 468/468 [00:08<00:00, 57.16it/s]\n",
            "  1%|▏         | 7/468 [00:00<00:07, 60.70it/s]"
          ],
          "name": "stderr"
        },
        {
          "output_type": "stream",
          "text": [
            "--------------- Epoch 214 ---------------\n"
          ],
          "name": "stdout"
        },
        {
          "output_type": "stream",
          "text": [
            "100%|██████████| 468/468 [00:08<00:00, 55.83it/s]\n",
            "  1%|▏         | 6/468 [00:00<00:07, 58.35it/s]"
          ],
          "name": "stderr"
        },
        {
          "output_type": "stream",
          "text": [
            "--------------- Epoch 215 ---------------\n"
          ],
          "name": "stdout"
        },
        {
          "output_type": "stream",
          "text": [
            "100%|██████████| 468/468 [00:08<00:00, 57.32it/s]\n",
            "  1%|▏         | 6/468 [00:00<00:08, 55.48it/s]"
          ],
          "name": "stderr"
        },
        {
          "output_type": "stream",
          "text": [
            "--------------- Epoch 216 ---------------\n"
          ],
          "name": "stdout"
        },
        {
          "output_type": "stream",
          "text": [
            "100%|██████████| 468/468 [00:08<00:00, 56.96it/s]\n",
            "  1%|▏         | 6/468 [00:00<00:08, 56.50it/s]"
          ],
          "name": "stderr"
        },
        {
          "output_type": "stream",
          "text": [
            "--------------- Epoch 217 ---------------\n"
          ],
          "name": "stdout"
        },
        {
          "output_type": "stream",
          "text": [
            "100%|██████████| 468/468 [00:07<00:00, 58.58it/s]\n",
            "  1%|▏         | 6/468 [00:00<00:08, 52.78it/s]"
          ],
          "name": "stderr"
        },
        {
          "output_type": "stream",
          "text": [
            "--------------- Epoch 218 ---------------\n"
          ],
          "name": "stdout"
        },
        {
          "output_type": "stream",
          "text": [
            "100%|██████████| 468/468 [00:08<00:00, 57.87it/s]\n",
            "  1%|▏         | 6/468 [00:00<00:08, 57.37it/s]"
          ],
          "name": "stderr"
        },
        {
          "output_type": "stream",
          "text": [
            "--------------- Epoch 219 ---------------\n"
          ],
          "name": "stdout"
        },
        {
          "output_type": "stream",
          "text": [
            "100%|██████████| 468/468 [00:08<00:00, 57.78it/s]\n",
            "  1%|▏         | 7/468 [00:00<00:07, 63.31it/s]"
          ],
          "name": "stderr"
        },
        {
          "output_type": "stream",
          "text": [
            "--------------- Epoch 220 ---------------\n"
          ],
          "name": "stdout"
        },
        {
          "output_type": "stream",
          "text": [
            "100%|██████████| 468/468 [00:08<00:00, 58.48it/s]\n",
            "  1%|▏         | 6/468 [00:00<00:07, 57.80it/s]"
          ],
          "name": "stderr"
        },
        {
          "output_type": "stream",
          "text": [
            "--------------- Epoch 221 ---------------\n"
          ],
          "name": "stdout"
        },
        {
          "output_type": "stream",
          "text": [
            "100%|██████████| 468/468 [00:07<00:00, 58.98it/s]\n",
            "  1%|▏         | 6/468 [00:00<00:08, 54.54it/s]"
          ],
          "name": "stderr"
        },
        {
          "output_type": "stream",
          "text": [
            "--------------- Epoch 222 ---------------\n"
          ],
          "name": "stdout"
        },
        {
          "output_type": "stream",
          "text": [
            "100%|██████████| 468/468 [00:07<00:00, 58.64it/s]\n",
            "  1%|▏         | 6/468 [00:00<00:08, 53.51it/s]"
          ],
          "name": "stderr"
        },
        {
          "output_type": "stream",
          "text": [
            "--------------- Epoch 223 ---------------\n"
          ],
          "name": "stdout"
        },
        {
          "output_type": "stream",
          "text": [
            "100%|██████████| 468/468 [00:08<00:00, 57.51it/s]\n",
            "  1%|▏         | 6/468 [00:00<00:07, 59.74it/s]"
          ],
          "name": "stderr"
        },
        {
          "output_type": "stream",
          "text": [
            "--------------- Epoch 224 ---------------\n"
          ],
          "name": "stdout"
        },
        {
          "output_type": "stream",
          "text": [
            " 41%|████      | 192/468 [00:03<00:05, 54.59it/s]"
          ],
          "name": "stderr"
        }
      ]
    },
    {
      "cell_type": "markdown",
      "metadata": {
        "id": "VKSzumXQ95cw",
        "colab_type": "text"
      },
      "source": [
        "### RESULTS:\n",
        "\n",
        "The GAN was able to acheive reasonable results in 400 eopchs here are some image snapshots from the epochs 1, 100, 200 and 400\n",
        "**EPOCH 1**\n",
        "![Epoch-1](https://github.com/Lingesh2311/GANS/blob/master/gan_generated_image_epoch_1.png?raw=1)\n",
        "**EPOCH 100**\n",
        "![Epoch-1](https://github.com/Lingesh2311/GANS/blob/master/gan_generated_image_epoch_100.png?raw=1)\n",
        "**EPOCH 200**\n",
        "![Epoch-1](https://github.com/Lingesh2311/GANS/blob/master/gan_generated_image_epoch_200.png?raw=1)"
      ]
    },
    {
      "cell_type": "code",
      "metadata": {
        "id": "hjv6NWqHKjyb",
        "colab_type": "code",
        "colab": {}
      },
      "source": [
        ""
      ],
      "execution_count": 0,
      "outputs": []
    }
  ]
}